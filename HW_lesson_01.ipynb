{
  "cells": [
    {
      "cell_type": "markdown",
      "metadata": {
        "id": "view-in-github",
        "colab_type": "text"
      },
      "source": [
        "<a href=\"https://colab.research.google.com/github/Kambey-san/PyTorch_base/blob/HW_lesson_01/HW_lesson_01.ipynb\" target=\"_parent\"><img src=\"https://colab.research.google.com/assets/colab-badge.svg\" alt=\"Open In Colab\"/></a>"
      ]
    },
    {
      "cell_type": "code",
      "execution_count": 24,
      "metadata": {
        "id": "NJbaxCYjPIB_"
      },
      "outputs": [],
      "source": [
        "import torch"
      ]
    },
    {
      "cell_type": "code",
      "execution_count": 25,
      "metadata": {
        "colab": {
          "base_uri": "https://localhost:8080/"
        },
        "id": "onDZW3K2PICK",
        "outputId": "10b5adf0-a544-4a50-ab80-aa42e7d898e8"
      },
      "outputs": [
        {
          "output_type": "execute_result",
          "data": {
            "text/plain": [
              "tensor([[[ 0.7873,  0.1958,  0.7868, -1.1589,  0.7202],\n",
              "         [-1.4972, -0.3958,  0.6211,  0.1182,  1.1744],\n",
              "         [-0.0463, -0.5327, -0.9258, -0.8362, -0.4485],\n",
              "         [-0.5686, -0.7132, -0.8629,  0.0575,  0.6163]],\n",
              "\n",
              "        [[-1.4717,  1.1899, -1.5603,  1.1302, -0.6011],\n",
              "         [ 0.4777, -0.0937,  1.2880,  0.2112,  0.6055],\n",
              "         [ 1.0819,  0.2873,  0.6832,  0.8445,  1.3974],\n",
              "         [-0.6319, -0.9471,  0.4325, -0.6953,  1.5292]],\n",
              "\n",
              "        [[ 0.3719,  1.3561,  1.3123, -0.9338, -0.9313],\n",
              "         [ 0.5146, -0.4204, -1.0299,  1.2796, -0.4595],\n",
              "         [ 0.0935, -0.1617, -1.8037,  0.5391,  0.6693],\n",
              "         [-2.0460, -1.1575,  0.1419,  0.0584,  1.6032]]])"
            ]
          },
          "metadata": {},
          "execution_count": 25
        }
      ],
      "source": [
        "# Создайте случайный FloatTensor размера 3x4x5\n",
        "t1 = torch.randn(3, 4, 5)\n",
        "t1"
      ]
    },
    {
      "cell_type": "code",
      "execution_count": 26,
      "metadata": {
        "colab": {
          "base_uri": "https://localhost:8080/"
        },
        "id": "2URIuXsWPICM",
        "outputId": "7c0b12e5-bb53-4268-9322-3559e0cba921"
      },
      "outputs": [
        {
          "output_type": "stream",
          "name": "stdout",
          "text": [
            "Форма тензора t1: torch.Size([3, 4, 5])\n"
          ]
        }
      ],
      "source": [
        "# Выведите его форму (shape)\n",
        "print(f'Форма тензора t1: {t1.shape}')"
      ]
    },
    {
      "cell_type": "code",
      "execution_count": 27,
      "metadata": {
        "colab": {
          "base_uri": "https://localhost:8080/"
        },
        "id": "eM15duWVPICN",
        "outputId": "d12f12b4-623b-4e79-b97c-bd11fa90febe"
      },
      "outputs": [
        {
          "output_type": "execute_result",
          "data": {
            "text/plain": [
              "(tensor([[ 0.7873,  0.1958,  0.7868, -1.1589,  0.7202, -1.4972, -0.3958,  0.6211,\n",
              "           0.1182,  1.1744],\n",
              "         [-0.0463, -0.5327, -0.9258, -0.8362, -0.4485, -0.5686, -0.7132, -0.8629,\n",
              "           0.0575,  0.6163],\n",
              "         [-1.4717,  1.1899, -1.5603,  1.1302, -0.6011,  0.4777, -0.0937,  1.2880,\n",
              "           0.2112,  0.6055],\n",
              "         [ 1.0819,  0.2873,  0.6832,  0.8445,  1.3974, -0.6319, -0.9471,  0.4325,\n",
              "          -0.6953,  1.5292],\n",
              "         [ 0.3719,  1.3561,  1.3123, -0.9338, -0.9313,  0.5146, -0.4204, -1.0299,\n",
              "           1.2796, -0.4595],\n",
              "         [ 0.0935, -0.1617, -1.8037,  0.5391,  0.6693, -2.0460, -1.1575,  0.1419,\n",
              "           0.0584,  1.6032]]),\n",
              " torch.Size([6, 10]))"
            ]
          },
          "metadata": {},
          "execution_count": 27
        }
      ],
      "source": [
        "# Приведите его к форме 6 X 10\n",
        "t1 = torch.reshape(t1, [6, 10])\n",
        "t1, t1.shape"
      ]
    },
    {
      "cell_type": "code",
      "source": [
        "# Создайте случайный IntTensor размера 10\n",
        "t2 = torch.IntTensor(10)\n",
        "t2.type(), t2"
      ],
      "metadata": {
        "colab": {
          "base_uri": "https://localhost:8080/"
        },
        "id": "sd-46WP9V7kM",
        "outputId": "b2bc0f8a-c479-4e46-82a5-4edad814e731"
      },
      "execution_count": 28,
      "outputs": [
        {
          "output_type": "execute_result",
          "data": {
            "text/plain": [
              "('torch.IntTensor',\n",
              " tensor([ 540680804,  842019362,  959458611, 1412641325,  893008176,  808663600,\n",
              "          942748718, 1513502520,  572533794, 1701864804], dtype=torch.int32))"
            ]
          },
          "metadata": {},
          "execution_count": 28
        }
      ]
    },
    {
      "cell_type": "code",
      "source": [
        "# Умножьте созданный FloatTensor на созданный IntTensor поэлементно\n",
        "t1 * t2"
      ],
      "metadata": {
        "id": "22-rFtlHWQ70",
        "colab": {
          "base_uri": "https://localhost:8080/"
        },
        "outputId": "d1c652d2-6a07-4d34-cd58-fd9d10c28a1b"
      },
      "execution_count": 29,
      "outputs": [
        {
          "output_type": "execute_result",
          "data": {
            "text/plain": [
              "tensor([[ 4.2570e+08,  1.6484e+08,  7.5488e+08, -1.6372e+09,  6.4311e+08,\n",
              "         -1.2107e+09, -3.7315e+08,  9.4001e+08,  6.7676e+07,  1.9986e+09],\n",
              "        [-2.5021e+07, -4.4857e+08, -8.8827e+08, -1.1812e+09, -4.0055e+08,\n",
              "         -4.5982e+08, -6.7238e+08, -1.3060e+09,  3.2943e+07,  1.0489e+09],\n",
              "        [-7.9571e+08,  1.0019e+09, -1.4970e+09,  1.5965e+09, -5.3677e+08,\n",
              "          3.8633e+08, -8.8377e+07,  1.9494e+09,  1.2094e+08,  1.0304e+09],\n",
              "        [ 5.8497e+08,  2.4192e+08,  6.5554e+08,  1.1930e+09,  1.2479e+09,\n",
              "         -5.1102e+08, -8.9286e+08,  6.5457e+08, -3.9811e+08,  2.6025e+09],\n",
              "        [ 2.0106e+08,  1.1419e+09,  1.2591e+09, -1.3192e+09, -8.3164e+08,\n",
              "          4.1611e+08, -3.9635e+08, -1.5588e+09,  7.3263e+08, -7.8193e+08],\n",
              "        [ 5.0547e+07, -1.3616e+08, -1.7306e+09,  7.6157e+08,  5.9773e+08,\n",
              "         -1.6545e+09, -1.0912e+09,  2.1471e+08,  3.3415e+07,  2.7285e+09]])"
            ]
          },
          "metadata": {},
          "execution_count": 29
        }
      ]
    },
    {
      "cell_type": "code",
      "source": [
        "# Умножьте тензор матрично на себя, чтобы результат был размерности 6x6 Подсказка: .dot может не подойти\n",
        "t1 @ t1.T"
      ],
      "metadata": {
        "colab": {
          "base_uri": "https://localhost:8080/"
        },
        "id": "mgy0V72FZku_",
        "outputId": "4f2aefde-b05a-498b-e2fb-c672de06d672"
      },
      "execution_count": 30,
      "outputs": [
        {
          "output_type": "execute_result",
          "data": {
            "text/plain": [
              "tensor([[ 7.3161,  1.1052, -3.0383,  4.7765,  0.3704,  3.9792],\n",
              "        [ 1.1052,  4.0032, -0.7275, -0.6045, -0.0696,  3.8587],\n",
              "        [-3.0383, -0.7275,  9.9619, -1.0791, -2.5260,  2.9881],\n",
              "        [ 4.7765, -0.6045, -1.0791,  8.6912, -2.3663,  5.0745],\n",
              "        [ 0.3704, -0.0696, -2.5260, -2.3663,  8.7895, -5.0526],\n",
              "        [ 3.9792,  3.8587,  2.9881,  5.0745, -5.0526, 12.1468]])"
            ]
          },
          "metadata": {},
          "execution_count": 30
        }
      ]
    },
    {
      "cell_type": "code",
      "source": [
        "# Посчитайте производную функции y = x**3 + z - 75t в точке (1, 0.5, 2)\n",
        "\n",
        "x = torch.tensor(1.0, requires_grad = True)\n",
        "z = torch.tensor(0.5, requires_grad = True)\n",
        "t = torch.tensor(2.0, requires_grad = True)\n",
        "\n",
        "y = x**3 + z - 75*t\n",
        "print('Значение функции y в точке:', y.item())\n",
        "\n",
        "y.backward() #считаем производную по всем переменным\n",
        "\n",
        "print('Производная функции y по x в точке: ', x.grad.item())\n",
        "print('Производная функции y по z в точке: ', z.grad.item())\n",
        "print('Производная функции y по t в точке: ', t.grad.item()) #частные производные"
      ],
      "metadata": {
        "colab": {
          "base_uri": "https://localhost:8080/"
        },
        "id": "_21aAXjSZtIL",
        "outputId": "2ebf0abe-c7c9-4a0f-ba2e-9f8324edcb00"
      },
      "execution_count": 31,
      "outputs": [
        {
          "output_type": "stream",
          "name": "stdout",
          "text": [
            "Значение функции y в точке: -148.5\n",
            "Производная функции y по x в точке:  3.0\n",
            "Производная функции y по z в точке:  1.0\n",
            "Производная функции y по t в точке:  -75.0\n"
          ]
        }
      ]
    },
    {
      "cell_type": "code",
      "execution_count": 32,
      "metadata": {
        "id": "l-Z85e3qPICS",
        "colab": {
          "base_uri": "https://localhost:8080/"
        },
        "outputId": "a2c5af79-c575-45e3-d57f-504fe9f81858"
      },
      "outputs": [
        {
          "output_type": "execute_result",
          "data": {
            "text/plain": [
              "(tensor([[1., 1., 1., 1., 1., 1.],\n",
              "         [1., 1., 1., 1., 1., 1.],\n",
              "         [1., 1., 1., 1., 1., 1.],\n",
              "         [1., 1., 1., 1., 1., 1.],\n",
              "         [1., 1., 1., 1., 1., 1.]]),\n",
              " torch.Size([5, 6]))"
            ]
          },
          "metadata": {},
          "execution_count": 32
        }
      ],
      "source": [
        "# Создайте единичный тензор размера 5x6\n",
        "t3 = torch.ones([5, 6])\n",
        "t3, t3.shape"
      ]
    },
    {
      "cell_type": "code",
      "source": [
        "import numpy"
      ],
      "metadata": {
        "id": "9oyKFX8pa8Km"
      },
      "execution_count": 36,
      "outputs": []
    },
    {
      "cell_type": "code",
      "execution_count": 37,
      "metadata": {
        "id": "WIsznR-WPICU",
        "colab": {
          "base_uri": "https://localhost:8080/"
        },
        "outputId": "9a18a476-d557-433f-86ad-7bdd051e2811"
      },
      "outputs": [
        {
          "output_type": "execute_result",
          "data": {
            "text/plain": [
              "array([[1., 1., 1., 1., 1., 1.],\n",
              "       [1., 1., 1., 1., 1., 1.],\n",
              "       [1., 1., 1., 1., 1., 1.],\n",
              "       [1., 1., 1., 1., 1., 1.],\n",
              "       [1., 1., 1., 1., 1., 1.]], dtype=float32)"
            ]
          },
          "metadata": {},
          "execution_count": 37
        }
      ],
      "source": [
        "# Переведите его в формат numpy\n",
        "t3.numpy()"
      ]
    }
  ],
  "metadata": {
    "kernelspec": {
      "display_name": "Python 3",
      "language": "python",
      "name": "python3"
    },
    "language_info": {
      "codemirror_mode": {
        "name": "ipython",
        "version": 3
      },
      "file_extension": ".py",
      "mimetype": "text/x-python",
      "name": "python",
      "nbconvert_exporter": "python",
      "pygments_lexer": "ipython3",
      "version": "3.7.4"
    },
    "colab": {
      "provenance": [],
      "include_colab_link": true
    }
  },
  "nbformat": 4,
  "nbformat_minor": 0
}