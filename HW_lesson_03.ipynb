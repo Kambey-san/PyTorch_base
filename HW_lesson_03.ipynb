{
  "nbformat": 4,
  "nbformat_minor": 0,
  "metadata": {
    "colab": {
      "provenance": [],
      "gpuType": "T4",
      "authorship_tag": "ABX9TyOKhyIydrSMsQmbOXmGHFYQ",
      "include_colab_link": true
    },
    "kernelspec": {
      "name": "python3",
      "display_name": "Python 3"
    },
    "language_info": {
      "name": "python"
    },
    "accelerator": "GPU"
  },
  "cells": [
    {
      "cell_type": "markdown",
      "metadata": {
        "id": "view-in-github",
        "colab_type": "text"
      },
      "source": [
        "<a href=\"https://colab.research.google.com/github/Kambey-san/PyTorch_base/blob/HW_lesson_03/HW_lesson_03.ipynb\" target=\"_parent\"><img src=\"https://colab.research.google.com/assets/colab-badge.svg\" alt=\"Open In Colab\"/></a>"
      ]
    },
    {
      "cell_type": "markdown",
      "source": [
        "## Урок 3. Dataset, Dataloader, BatchNorm, Dropout, Оптимизация/ ДЗ"
      ],
      "metadata": {
        "id": "cg7yBzunx_UZ"
      }
    },
    {
      "cell_type": "code",
      "execution_count": null,
      "metadata": {
        "colab": {
          "base_uri": "https://localhost:8080/"
        },
        "id": "asJaNXsWx-Tf",
        "outputId": "962e23da-5f87-4b03-bcb6-71998e47452d"
      },
      "outputs": [
        {
          "output_type": "stream",
          "name": "stdout",
          "text": [
            "Collecting torchmetrics\n",
            "  Downloading torchmetrics-1.2.0-py3-none-any.whl (805 kB)\n",
            "\u001b[2K     \u001b[90m━━━━━━━━━━━━━━━━━━━━━━━━━━━━━━━━━━━━━━━\u001b[0m \u001b[32m805.2/805.2 kB\u001b[0m \u001b[31m8.8 MB/s\u001b[0m eta \u001b[36m0:00:00\u001b[0m\n",
            "\u001b[?25hRequirement already satisfied: numpy>1.20.0 in /usr/local/lib/python3.10/dist-packages (from torchmetrics) (1.23.5)\n",
            "Requirement already satisfied: torch>=1.8.1 in /usr/local/lib/python3.10/dist-packages (from torchmetrics) (2.0.1+cu118)\n",
            "Collecting lightning-utilities>=0.8.0 (from torchmetrics)\n",
            "  Downloading lightning_utilities-0.9.0-py3-none-any.whl (23 kB)\n",
            "Requirement already satisfied: packaging>=17.1 in /usr/local/lib/python3.10/dist-packages (from lightning-utilities>=0.8.0->torchmetrics) (23.1)\n",
            "Requirement already satisfied: typing-extensions in /usr/local/lib/python3.10/dist-packages (from lightning-utilities>=0.8.0->torchmetrics) (4.5.0)\n",
            "Requirement already satisfied: filelock in /usr/local/lib/python3.10/dist-packages (from torch>=1.8.1->torchmetrics) (3.12.2)\n",
            "Requirement already satisfied: sympy in /usr/local/lib/python3.10/dist-packages (from torch>=1.8.1->torchmetrics) (1.12)\n",
            "Requirement already satisfied: networkx in /usr/local/lib/python3.10/dist-packages (from torch>=1.8.1->torchmetrics) (3.1)\n",
            "Requirement already satisfied: jinja2 in /usr/local/lib/python3.10/dist-packages (from torch>=1.8.1->torchmetrics) (3.1.2)\n",
            "Requirement already satisfied: triton==2.0.0 in /usr/local/lib/python3.10/dist-packages (from torch>=1.8.1->torchmetrics) (2.0.0)\n",
            "Requirement already satisfied: cmake in /usr/local/lib/python3.10/dist-packages (from triton==2.0.0->torch>=1.8.1->torchmetrics) (3.27.4.1)\n",
            "Requirement already satisfied: lit in /usr/local/lib/python3.10/dist-packages (from triton==2.0.0->torch>=1.8.1->torchmetrics) (16.0.6)\n",
            "Requirement already satisfied: MarkupSafe>=2.0 in /usr/local/lib/python3.10/dist-packages (from jinja2->torch>=1.8.1->torchmetrics) (2.1.3)\n",
            "Requirement already satisfied: mpmath>=0.19 in /usr/local/lib/python3.10/dist-packages (from sympy->torch>=1.8.1->torchmetrics) (1.3.0)\n",
            "Installing collected packages: lightning-utilities, torchmetrics\n",
            "Successfully installed lightning-utilities-0.9.0 torchmetrics-1.2.0\n"
          ]
        }
      ],
      "source": [
        "!pip install torchmetrics"
      ]
    },
    {
      "cell_type": "code",
      "source": [
        "# загрузка датасета\n",
        "from sklearn.datasets import fetch_california_housing\n",
        "import pandas as pd\n",
        "import numpy as np\n",
        "\n",
        "# разделение датасета\n",
        "from sklearn.model_selection import train_test_split\n",
        "\n",
        "# преобразование данных\n",
        "from sklearn.preprocessing import MinMaxScaler\n",
        "from torchvision import transforms\n",
        "\n",
        "#построение модели\n",
        "import torch\n",
        "import torch.nn as nn\n",
        "import torch.nn.functional as F\n",
        "\n",
        "# метрика\n",
        "import torchmetrics\n",
        "\n",
        "#отрисовка графиков\n",
        "from matplotlib import pyplot as plt"
      ],
      "metadata": {
        "id": "Nwv5CVDvyTe4"
      },
      "execution_count": null,
      "outputs": []
    },
    {
      "cell_type": "markdown",
      "source": [
        "### Задание\n",
        "1. Создать Dataset для загрузки данных (sklearn.datasets.fetch_california_housing)\n",
        "2. Обернуть его в Dataloader\n",
        "3. Написать архитектуру сети, которая предсказывает стоимость недвижимости. Сеть должна включать BatchNorm слои и Dropout (или НЕ включать, но нужно обосновать)\n",
        "4. Сравните сходимость Adam, RMSProp и SGD, сделайте вывод по качеству работы модели train-test разделение нужно сделать с помощью sklearn random_state=13, test_size = 0.25"
      ],
      "metadata": {
        "id": "rlMVpm_Pyj_x"
      }
    },
    {
      "cell_type": "markdown",
      "source": [
        "### Загрузка данных"
      ],
      "metadata": {
        "id": "uwYGznEBzFc0"
      }
    },
    {
      "cell_type": "code",
      "source": [
        "housing = fetch_california_housing(data_home=None, download_if_missing=True, return_X_y=False, as_frame=True)\n",
        "df = housing['frame']\n",
        "df"
      ],
      "metadata": {
        "colab": {
          "base_uri": "https://localhost:8080/",
          "height": 424
        },
        "id": "1QPXu2iezI7r",
        "outputId": "d1f8cc49-81e1-43cf-a067-7b6e8971f229"
      },
      "execution_count": null,
      "outputs": [
        {
          "output_type": "execute_result",
          "data": {
            "text/plain": [
              "       MedInc  HouseAge  AveRooms  AveBedrms  Population  AveOccup  Latitude  \\\n",
              "0      8.3252      41.0  6.984127   1.023810       322.0  2.555556     37.88   \n",
              "1      8.3014      21.0  6.238137   0.971880      2401.0  2.109842     37.86   \n",
              "2      7.2574      52.0  8.288136   1.073446       496.0  2.802260     37.85   \n",
              "3      5.6431      52.0  5.817352   1.073059       558.0  2.547945     37.85   \n",
              "4      3.8462      52.0  6.281853   1.081081       565.0  2.181467     37.85   \n",
              "...       ...       ...       ...        ...         ...       ...       ...   \n",
              "20635  1.5603      25.0  5.045455   1.133333       845.0  2.560606     39.48   \n",
              "20636  2.5568      18.0  6.114035   1.315789       356.0  3.122807     39.49   \n",
              "20637  1.7000      17.0  5.205543   1.120092      1007.0  2.325635     39.43   \n",
              "20638  1.8672      18.0  5.329513   1.171920       741.0  2.123209     39.43   \n",
              "20639  2.3886      16.0  5.254717   1.162264      1387.0  2.616981     39.37   \n",
              "\n",
              "       Longitude  MedHouseVal  \n",
              "0        -122.23        4.526  \n",
              "1        -122.22        3.585  \n",
              "2        -122.24        3.521  \n",
              "3        -122.25        3.413  \n",
              "4        -122.25        3.422  \n",
              "...          ...          ...  \n",
              "20635    -121.09        0.781  \n",
              "20636    -121.21        0.771  \n",
              "20637    -121.22        0.923  \n",
              "20638    -121.32        0.847  \n",
              "20639    -121.24        0.894  \n",
              "\n",
              "[20640 rows x 9 columns]"
            ],
            "text/html": [
              "\n",
              "  <div id=\"df-170e68d4-9db2-440b-9ac1-c78ea98cb244\" class=\"colab-df-container\">\n",
              "    <div>\n",
              "<style scoped>\n",
              "    .dataframe tbody tr th:only-of-type {\n",
              "        vertical-align: middle;\n",
              "    }\n",
              "\n",
              "    .dataframe tbody tr th {\n",
              "        vertical-align: top;\n",
              "    }\n",
              "\n",
              "    .dataframe thead th {\n",
              "        text-align: right;\n",
              "    }\n",
              "</style>\n",
              "<table border=\"1\" class=\"dataframe\">\n",
              "  <thead>\n",
              "    <tr style=\"text-align: right;\">\n",
              "      <th></th>\n",
              "      <th>MedInc</th>\n",
              "      <th>HouseAge</th>\n",
              "      <th>AveRooms</th>\n",
              "      <th>AveBedrms</th>\n",
              "      <th>Population</th>\n",
              "      <th>AveOccup</th>\n",
              "      <th>Latitude</th>\n",
              "      <th>Longitude</th>\n",
              "      <th>MedHouseVal</th>\n",
              "    </tr>\n",
              "  </thead>\n",
              "  <tbody>\n",
              "    <tr>\n",
              "      <th>0</th>\n",
              "      <td>8.3252</td>\n",
              "      <td>41.0</td>\n",
              "      <td>6.984127</td>\n",
              "      <td>1.023810</td>\n",
              "      <td>322.0</td>\n",
              "      <td>2.555556</td>\n",
              "      <td>37.88</td>\n",
              "      <td>-122.23</td>\n",
              "      <td>4.526</td>\n",
              "    </tr>\n",
              "    <tr>\n",
              "      <th>1</th>\n",
              "      <td>8.3014</td>\n",
              "      <td>21.0</td>\n",
              "      <td>6.238137</td>\n",
              "      <td>0.971880</td>\n",
              "      <td>2401.0</td>\n",
              "      <td>2.109842</td>\n",
              "      <td>37.86</td>\n",
              "      <td>-122.22</td>\n",
              "      <td>3.585</td>\n",
              "    </tr>\n",
              "    <tr>\n",
              "      <th>2</th>\n",
              "      <td>7.2574</td>\n",
              "      <td>52.0</td>\n",
              "      <td>8.288136</td>\n",
              "      <td>1.073446</td>\n",
              "      <td>496.0</td>\n",
              "      <td>2.802260</td>\n",
              "      <td>37.85</td>\n",
              "      <td>-122.24</td>\n",
              "      <td>3.521</td>\n",
              "    </tr>\n",
              "    <tr>\n",
              "      <th>3</th>\n",
              "      <td>5.6431</td>\n",
              "      <td>52.0</td>\n",
              "      <td>5.817352</td>\n",
              "      <td>1.073059</td>\n",
              "      <td>558.0</td>\n",
              "      <td>2.547945</td>\n",
              "      <td>37.85</td>\n",
              "      <td>-122.25</td>\n",
              "      <td>3.413</td>\n",
              "    </tr>\n",
              "    <tr>\n",
              "      <th>4</th>\n",
              "      <td>3.8462</td>\n",
              "      <td>52.0</td>\n",
              "      <td>6.281853</td>\n",
              "      <td>1.081081</td>\n",
              "      <td>565.0</td>\n",
              "      <td>2.181467</td>\n",
              "      <td>37.85</td>\n",
              "      <td>-122.25</td>\n",
              "      <td>3.422</td>\n",
              "    </tr>\n",
              "    <tr>\n",
              "      <th>...</th>\n",
              "      <td>...</td>\n",
              "      <td>...</td>\n",
              "      <td>...</td>\n",
              "      <td>...</td>\n",
              "      <td>...</td>\n",
              "      <td>...</td>\n",
              "      <td>...</td>\n",
              "      <td>...</td>\n",
              "      <td>...</td>\n",
              "    </tr>\n",
              "    <tr>\n",
              "      <th>20635</th>\n",
              "      <td>1.5603</td>\n",
              "      <td>25.0</td>\n",
              "      <td>5.045455</td>\n",
              "      <td>1.133333</td>\n",
              "      <td>845.0</td>\n",
              "      <td>2.560606</td>\n",
              "      <td>39.48</td>\n",
              "      <td>-121.09</td>\n",
              "      <td>0.781</td>\n",
              "    </tr>\n",
              "    <tr>\n",
              "      <th>20636</th>\n",
              "      <td>2.5568</td>\n",
              "      <td>18.0</td>\n",
              "      <td>6.114035</td>\n",
              "      <td>1.315789</td>\n",
              "      <td>356.0</td>\n",
              "      <td>3.122807</td>\n",
              "      <td>39.49</td>\n",
              "      <td>-121.21</td>\n",
              "      <td>0.771</td>\n",
              "    </tr>\n",
              "    <tr>\n",
              "      <th>20637</th>\n",
              "      <td>1.7000</td>\n",
              "      <td>17.0</td>\n",
              "      <td>5.205543</td>\n",
              "      <td>1.120092</td>\n",
              "      <td>1007.0</td>\n",
              "      <td>2.325635</td>\n",
              "      <td>39.43</td>\n",
              "      <td>-121.22</td>\n",
              "      <td>0.923</td>\n",
              "    </tr>\n",
              "    <tr>\n",
              "      <th>20638</th>\n",
              "      <td>1.8672</td>\n",
              "      <td>18.0</td>\n",
              "      <td>5.329513</td>\n",
              "      <td>1.171920</td>\n",
              "      <td>741.0</td>\n",
              "      <td>2.123209</td>\n",
              "      <td>39.43</td>\n",
              "      <td>-121.32</td>\n",
              "      <td>0.847</td>\n",
              "    </tr>\n",
              "    <tr>\n",
              "      <th>20639</th>\n",
              "      <td>2.3886</td>\n",
              "      <td>16.0</td>\n",
              "      <td>5.254717</td>\n",
              "      <td>1.162264</td>\n",
              "      <td>1387.0</td>\n",
              "      <td>2.616981</td>\n",
              "      <td>39.37</td>\n",
              "      <td>-121.24</td>\n",
              "      <td>0.894</td>\n",
              "    </tr>\n",
              "  </tbody>\n",
              "</table>\n",
              "<p>20640 rows × 9 columns</p>\n",
              "</div>\n",
              "    <div class=\"colab-df-buttons\">\n",
              "\n",
              "  <div class=\"colab-df-container\">\n",
              "    <button class=\"colab-df-convert\" onclick=\"convertToInteractive('df-170e68d4-9db2-440b-9ac1-c78ea98cb244')\"\n",
              "            title=\"Convert this dataframe to an interactive table.\"\n",
              "            style=\"display:none;\">\n",
              "\n",
              "  <svg xmlns=\"http://www.w3.org/2000/svg\" height=\"24px\" viewBox=\"0 -960 960 960\">\n",
              "    <path d=\"M120-120v-720h720v720H120Zm60-500h600v-160H180v160Zm220 220h160v-160H400v160Zm0 220h160v-160H400v160ZM180-400h160v-160H180v160Zm440 0h160v-160H620v160ZM180-180h160v-160H180v160Zm440 0h160v-160H620v160Z\"/>\n",
              "  </svg>\n",
              "    </button>\n",
              "\n",
              "  <style>\n",
              "    .colab-df-container {\n",
              "      display:flex;\n",
              "      gap: 12px;\n",
              "    }\n",
              "\n",
              "    .colab-df-convert {\n",
              "      background-color: #E8F0FE;\n",
              "      border: none;\n",
              "      border-radius: 50%;\n",
              "      cursor: pointer;\n",
              "      display: none;\n",
              "      fill: #1967D2;\n",
              "      height: 32px;\n",
              "      padding: 0 0 0 0;\n",
              "      width: 32px;\n",
              "    }\n",
              "\n",
              "    .colab-df-convert:hover {\n",
              "      background-color: #E2EBFA;\n",
              "      box-shadow: 0px 1px 2px rgba(60, 64, 67, 0.3), 0px 1px 3px 1px rgba(60, 64, 67, 0.15);\n",
              "      fill: #174EA6;\n",
              "    }\n",
              "\n",
              "    .colab-df-buttons div {\n",
              "      margin-bottom: 4px;\n",
              "    }\n",
              "\n",
              "    [theme=dark] .colab-df-convert {\n",
              "      background-color: #3B4455;\n",
              "      fill: #D2E3FC;\n",
              "    }\n",
              "\n",
              "    [theme=dark] .colab-df-convert:hover {\n",
              "      background-color: #434B5C;\n",
              "      box-shadow: 0px 1px 3px 1px rgba(0, 0, 0, 0.15);\n",
              "      filter: drop-shadow(0px 1px 2px rgba(0, 0, 0, 0.3));\n",
              "      fill: #FFFFFF;\n",
              "    }\n",
              "  </style>\n",
              "\n",
              "    <script>\n",
              "      const buttonEl =\n",
              "        document.querySelector('#df-170e68d4-9db2-440b-9ac1-c78ea98cb244 button.colab-df-convert');\n",
              "      buttonEl.style.display =\n",
              "        google.colab.kernel.accessAllowed ? 'block' : 'none';\n",
              "\n",
              "      async function convertToInteractive(key) {\n",
              "        const element = document.querySelector('#df-170e68d4-9db2-440b-9ac1-c78ea98cb244');\n",
              "        const dataTable =\n",
              "          await google.colab.kernel.invokeFunction('convertToInteractive',\n",
              "                                                    [key], {});\n",
              "        if (!dataTable) return;\n",
              "\n",
              "        const docLinkHtml = 'Like what you see? Visit the ' +\n",
              "          '<a target=\"_blank\" href=https://colab.research.google.com/notebooks/data_table.ipynb>data table notebook</a>'\n",
              "          + ' to learn more about interactive tables.';\n",
              "        element.innerHTML = '';\n",
              "        dataTable['output_type'] = 'display_data';\n",
              "        await google.colab.output.renderOutput(dataTable, element);\n",
              "        const docLink = document.createElement('div');\n",
              "        docLink.innerHTML = docLinkHtml;\n",
              "        element.appendChild(docLink);\n",
              "      }\n",
              "    </script>\n",
              "  </div>\n",
              "\n",
              "\n",
              "<div id=\"df-9eb09421-9e4c-435e-a769-fcb45b5a9f40\">\n",
              "  <button class=\"colab-df-quickchart\" onclick=\"quickchart('df-9eb09421-9e4c-435e-a769-fcb45b5a9f40')\"\n",
              "            title=\"Suggest charts.\"\n",
              "            style=\"display:none;\">\n",
              "\n",
              "<svg xmlns=\"http://www.w3.org/2000/svg\" height=\"24px\"viewBox=\"0 0 24 24\"\n",
              "     width=\"24px\">\n",
              "    <g>\n",
              "        <path d=\"M19 3H5c-1.1 0-2 .9-2 2v14c0 1.1.9 2 2 2h14c1.1 0 2-.9 2-2V5c0-1.1-.9-2-2-2zM9 17H7v-7h2v7zm4 0h-2V7h2v10zm4 0h-2v-4h2v4z\"/>\n",
              "    </g>\n",
              "</svg>\n",
              "  </button>\n",
              "\n",
              "<style>\n",
              "  .colab-df-quickchart {\n",
              "      --bg-color: #E8F0FE;\n",
              "      --fill-color: #1967D2;\n",
              "      --hover-bg-color: #E2EBFA;\n",
              "      --hover-fill-color: #174EA6;\n",
              "      --disabled-fill-color: #AAA;\n",
              "      --disabled-bg-color: #DDD;\n",
              "  }\n",
              "\n",
              "  [theme=dark] .colab-df-quickchart {\n",
              "      --bg-color: #3B4455;\n",
              "      --fill-color: #D2E3FC;\n",
              "      --hover-bg-color: #434B5C;\n",
              "      --hover-fill-color: #FFFFFF;\n",
              "      --disabled-bg-color: #3B4455;\n",
              "      --disabled-fill-color: #666;\n",
              "  }\n",
              "\n",
              "  .colab-df-quickchart {\n",
              "    background-color: var(--bg-color);\n",
              "    border: none;\n",
              "    border-radius: 50%;\n",
              "    cursor: pointer;\n",
              "    display: none;\n",
              "    fill: var(--fill-color);\n",
              "    height: 32px;\n",
              "    padding: 0;\n",
              "    width: 32px;\n",
              "  }\n",
              "\n",
              "  .colab-df-quickchart:hover {\n",
              "    background-color: var(--hover-bg-color);\n",
              "    box-shadow: 0 1px 2px rgba(60, 64, 67, 0.3), 0 1px 3px 1px rgba(60, 64, 67, 0.15);\n",
              "    fill: var(--button-hover-fill-color);\n",
              "  }\n",
              "\n",
              "  .colab-df-quickchart-complete:disabled,\n",
              "  .colab-df-quickchart-complete:disabled:hover {\n",
              "    background-color: var(--disabled-bg-color);\n",
              "    fill: var(--disabled-fill-color);\n",
              "    box-shadow: none;\n",
              "  }\n",
              "\n",
              "  .colab-df-spinner {\n",
              "    border: 2px solid var(--fill-color);\n",
              "    border-color: transparent;\n",
              "    border-bottom-color: var(--fill-color);\n",
              "    animation:\n",
              "      spin 1s steps(1) infinite;\n",
              "  }\n",
              "\n",
              "  @keyframes spin {\n",
              "    0% {\n",
              "      border-color: transparent;\n",
              "      border-bottom-color: var(--fill-color);\n",
              "      border-left-color: var(--fill-color);\n",
              "    }\n",
              "    20% {\n",
              "      border-color: transparent;\n",
              "      border-left-color: var(--fill-color);\n",
              "      border-top-color: var(--fill-color);\n",
              "    }\n",
              "    30% {\n",
              "      border-color: transparent;\n",
              "      border-left-color: var(--fill-color);\n",
              "      border-top-color: var(--fill-color);\n",
              "      border-right-color: var(--fill-color);\n",
              "    }\n",
              "    40% {\n",
              "      border-color: transparent;\n",
              "      border-right-color: var(--fill-color);\n",
              "      border-top-color: var(--fill-color);\n",
              "    }\n",
              "    60% {\n",
              "      border-color: transparent;\n",
              "      border-right-color: var(--fill-color);\n",
              "    }\n",
              "    80% {\n",
              "      border-color: transparent;\n",
              "      border-right-color: var(--fill-color);\n",
              "      border-bottom-color: var(--fill-color);\n",
              "    }\n",
              "    90% {\n",
              "      border-color: transparent;\n",
              "      border-bottom-color: var(--fill-color);\n",
              "    }\n",
              "  }\n",
              "</style>\n",
              "\n",
              "  <script>\n",
              "    async function quickchart(key) {\n",
              "      const quickchartButtonEl =\n",
              "        document.querySelector('#' + key + ' button');\n",
              "      quickchartButtonEl.disabled = true;  // To prevent multiple clicks.\n",
              "      quickchartButtonEl.classList.add('colab-df-spinner');\n",
              "      try {\n",
              "        const charts = await google.colab.kernel.invokeFunction(\n",
              "            'suggestCharts', [key], {});\n",
              "      } catch (error) {\n",
              "        console.error('Error during call to suggestCharts:', error);\n",
              "      }\n",
              "      quickchartButtonEl.classList.remove('colab-df-spinner');\n",
              "      quickchartButtonEl.classList.add('colab-df-quickchart-complete');\n",
              "    }\n",
              "    (() => {\n",
              "      let quickchartButtonEl =\n",
              "        document.querySelector('#df-9eb09421-9e4c-435e-a769-fcb45b5a9f40 button');\n",
              "      quickchartButtonEl.style.display =\n",
              "        google.colab.kernel.accessAllowed ? 'block' : 'none';\n",
              "    })();\n",
              "  </script>\n",
              "</div>\n",
              "    </div>\n",
              "  </div>\n"
            ]
          },
          "metadata": {},
          "execution_count": 3
        }
      ]
    },
    {
      "cell_type": "code",
      "source": [
        "# пропусков в данных нет\n",
        "df.info()"
      ],
      "metadata": {
        "colab": {
          "base_uri": "https://localhost:8080/"
        },
        "id": "QIRHIOklzRby",
        "outputId": "b819a23b-dae6-47eb-ec1e-6cd130ee6797"
      },
      "execution_count": null,
      "outputs": [
        {
          "output_type": "stream",
          "name": "stdout",
          "text": [
            "<class 'pandas.core.frame.DataFrame'>\n",
            "RangeIndex: 20640 entries, 0 to 20639\n",
            "Data columns (total 9 columns):\n",
            " #   Column       Non-Null Count  Dtype  \n",
            "---  ------       --------------  -----  \n",
            " 0   MedInc       20640 non-null  float64\n",
            " 1   HouseAge     20640 non-null  float64\n",
            " 2   AveRooms     20640 non-null  float64\n",
            " 3   AveBedrms    20640 non-null  float64\n",
            " 4   Population   20640 non-null  float64\n",
            " 5   AveOccup     20640 non-null  float64\n",
            " 6   Latitude     20640 non-null  float64\n",
            " 7   Longitude    20640 non-null  float64\n",
            " 8   MedHouseVal  20640 non-null  float64\n",
            "dtypes: float64(9)\n",
            "memory usage: 1.4 MB\n"
          ]
        }
      ]
    },
    {
      "cell_type": "code",
      "source": [
        "# целевая переменная\n",
        "target = housing['target_names'][0]\n",
        "target"
      ],
      "metadata": {
        "colab": {
          "base_uri": "https://localhost:8080/",
          "height": 35
        },
        "id": "GwkszBdMzWEg",
        "outputId": "eac5d184-bbc2-41f0-bd6b-4eb4a1eeea8e"
      },
      "execution_count": null,
      "outputs": [
        {
          "output_type": "execute_result",
          "data": {
            "text/plain": [
              "'MedHouseVal'"
            ],
            "application/vnd.google.colaboratory.intrinsic+json": {
              "type": "string"
            }
          },
          "metadata": {},
          "execution_count": 5
        }
      ]
    },
    {
      "cell_type": "code",
      "source": [
        "# список признаков\n",
        "features_list = housing['feature_names']\n",
        "features_list"
      ],
      "metadata": {
        "colab": {
          "base_uri": "https://localhost:8080/"
        },
        "id": "oSlLZLj4zZ5m",
        "outputId": "f4987ba9-7633-4556-d952-ce112d5a9d99"
      },
      "execution_count": null,
      "outputs": [
        {
          "output_type": "execute_result",
          "data": {
            "text/plain": [
              "['MedInc',\n",
              " 'HouseAge',\n",
              " 'AveRooms',\n",
              " 'AveBedrms',\n",
              " 'Population',\n",
              " 'AveOccup',\n",
              " 'Latitude',\n",
              " 'Longitude']"
            ]
          },
          "metadata": {},
          "execution_count": 6
        }
      ]
    },
    {
      "cell_type": "code",
      "source": [
        "# собираем признаки и целевую переменную\n",
        "X = df[features_list]\n",
        "y = df[target]"
      ],
      "metadata": {
        "id": "T1-Gal06zdyr"
      },
      "execution_count": null,
      "outputs": []
    },
    {
      "cell_type": "code",
      "source": [
        "# разделяем датасет на трейн и тест\n",
        "X_train, X_test, y_train, y_test = train_test_split(X, y, test_size=0.25, random_state=13)\n",
        "print(f'Тренировочный набор: {X_train.shape}, {y_train.shape}')\n",
        "print(f'Тестовый набор: {X_test.shape}, {y_test.shape}')"
      ],
      "metadata": {
        "colab": {
          "base_uri": "https://localhost:8080/"
        },
        "id": "9iGufJJ1zhhx",
        "outputId": "377986d7-55bf-4484-cda5-bcdea0e61262"
      },
      "execution_count": null,
      "outputs": [
        {
          "output_type": "stream",
          "name": "stdout",
          "text": [
            "Тренировочный набор: (15480, 8), (15480,)\n",
            "Тестовый набор: (5160, 8), (5160,)\n"
          ]
        }
      ]
    },
    {
      "cell_type": "code",
      "source": [
        "#стандартизация данных\n",
        "scaler = MinMaxScaler()\n",
        "X_train = scaler.fit_transform(X_train)\n",
        "X_test = scaler.transform(X_test)\n",
        "\n",
        "X_train = torch.FloatTensor(X_train).float()\n",
        "y_train = torch.FloatTensor(y_train.values).float()\n",
        "\n",
        "X_test = torch.FloatTensor(X_test).float()\n",
        "y_test = torch.FloatTensor(y_test.values).float()"
      ],
      "metadata": {
        "id": "Tg7dhM3zzlwn"
      },
      "execution_count": null,
      "outputs": []
    },
    {
      "cell_type": "markdown",
      "source": [
        "### Dataset и Dataloader"
      ],
      "metadata": {
        "id": "7AWAzzJCzp6S"
      }
    },
    {
      "cell_type": "code",
      "source": [
        "# класс датасета\n",
        "class MyOwnClass(torch.utils.data.Dataset):\n",
        "\n",
        "    def __init__(self, X_data, y_data):\n",
        "        self._X = X_data\n",
        "        self._y = y_data\n",
        "\n",
        "    def __len__(self):\n",
        "        return len(self._X)\n",
        "\n",
        "    def __getitem__(self, idx):\n",
        "        X = self._X[idx]\n",
        "        y = self._y[idx]\n",
        "\n",
        "        return X, y"
      ],
      "metadata": {
        "id": "qw-MjXTizruy"
      },
      "execution_count": null,
      "outputs": []
    },
    {
      "cell_type": "code",
      "source": [
        "# создание представителя тренировочного датасета и его dataloader\n",
        "train_dataset = MyOwnClass(X_train, y_train)\n",
        "\n",
        "train_loader = torch.utils.data.DataLoader(train_dataset,\n",
        "                          batch_size=128,\n",
        "                          shuffle=True,\n",
        "                          drop_last=True,\n",
        "                          num_workers=0)"
      ],
      "metadata": {
        "id": "r8Zxa3_Gzx3E"
      },
      "execution_count": 11,
      "outputs": []
    },
    {
      "cell_type": "code",
      "source": [
        "# элементы тренировочного датасета\n",
        "train_dataset[0], train_dataset[0][0].shape, train_dataset[0][1].shape"
      ],
      "metadata": {
        "colab": {
          "base_uri": "https://localhost:8080/"
        },
        "id": "cr_r9a0B42Zh",
        "outputId": "37ee0b96-4cef-4eca-d04d-0ec275ad694b"
      },
      "execution_count": 12,
      "outputs": [
        {
          "output_type": "execute_result",
          "data": {
            "text/plain": [
              "((tensor([0.2081, 0.6863, 0.0243, 0.0226, 0.0379, 0.0011, 0.1775, 0.6096]),\n",
              "  tensor(2.6800)),\n",
              " torch.Size([8]),\n",
              " torch.Size([]))"
            ]
          },
          "metadata": {},
          "execution_count": 12
        }
      ]
    },
    {
      "cell_type": "code",
      "source": [
        "# элементы тренировочного даталоадера\n",
        "for idx, batch in enumerate(train_loader):\n",
        "    print(idx, 'Tensor: ', batch[0], batch[0].shape)  # 128 батчей с 8 признаками\n",
        "    print(idx, 'target: ', batch[1], batch[1].shape)  # 128 значений target\n",
        "    break"
      ],
      "metadata": {
        "colab": {
          "base_uri": "https://localhost:8080/"
        },
        "id": "ciiLkkWM46jZ",
        "outputId": "3197b4c7-dcb2-4fc0-f97f-94831ca7e806"
      },
      "execution_count": 13,
      "outputs": [
        {
          "output_type": "stream",
          "name": "stdout",
          "text": [
            "0 Tensor:  tensor([[3.5903e-01, 6.2745e-01, 3.4058e-02,  ..., 1.8812e-03, 5.1222e-01,\n",
            "         2.3606e-01],\n",
            "        [1.3567e-01, 7.0588e-01, 1.4373e-02,  ..., 8.1968e-04, 2.2317e-02,\n",
            "         7.0717e-01],\n",
            "        [1.4414e-01, 8.6275e-01, 3.0833e-02,  ..., 2.2809e-03, 5.5260e-01,\n",
            "         1.9422e-01],\n",
            "        ...,\n",
            "        [1.0122e-01, 6.2745e-01, 2.8736e-02,  ..., 2.3315e-03, 4.3146e-01,\n",
            "         4.7012e-01],\n",
            "        [7.9806e-02, 6.4706e-01, 2.3615e-02,  ..., 2.0325e-03, 5.7386e-01,\n",
            "         1.9920e-01],\n",
            "        [1.8739e-01, 2.9412e-01, 2.6578e-02,  ..., 1.7307e-03, 7.3326e-01,\n",
            "         5.5777e-02]]) torch.Size([128, 8])\n",
            "0 target:  tensor([2.8720, 2.1670, 2.1180, 2.6760, 1.4110, 2.5990, 0.9480, 1.5250, 1.4310,\n",
            "        1.4810, 1.4070, 1.4200, 1.3400, 5.0000, 2.6700, 0.8450, 5.0000, 1.3730,\n",
            "        0.9550, 2.0240, 0.6750, 4.8330, 3.5560, 1.0780, 1.9450, 1.6680, 2.7640,\n",
            "        2.4180, 2.0920, 1.6260, 3.7500, 2.0720, 1.4400, 1.5970, 2.5380, 1.8690,\n",
            "        2.9440, 2.2280, 2.1880, 3.8330, 0.6470, 2.3960, 0.9410, 1.3750, 2.1660,\n",
            "        3.4770, 1.0360, 1.5570, 2.3550, 2.4580, 0.8750, 1.1150, 1.5550, 0.7070,\n",
            "        2.7650, 0.9710, 1.6510, 5.0000, 1.8290, 2.4570, 0.8340, 1.0980, 4.4500,\n",
            "        0.5210, 2.9570, 1.0130, 2.6980, 1.0460, 1.6930, 1.1250, 4.1580, 1.4340,\n",
            "        3.9080, 2.1900, 1.8310, 5.0000, 1.3820, 3.1250, 1.6710, 3.2400, 5.0000,\n",
            "        1.7910, 1.5640, 1.0290, 0.7880, 0.7310, 3.8470, 1.6230, 1.0520, 3.2770,\n",
            "        1.3250, 1.6720, 1.3870, 1.1630, 2.2270, 2.3790, 1.6400, 2.9580, 1.4460,\n",
            "        1.8510, 1.8600, 1.6310, 1.1250, 3.0220, 2.1250, 1.7730, 2.0000, 2.2420,\n",
            "        1.0070, 1.9410, 2.0990, 3.5560, 1.5540, 1.3420, 1.0100, 2.5470, 0.9290,\n",
            "        1.4880, 5.0000, 1.6740, 3.2400, 1.6170, 2.1880, 3.4930, 1.4470, 0.6240,\n",
            "        1.0520, 1.1620]) torch.Size([128])\n"
          ]
        }
      ]
    },
    {
      "cell_type": "code",
      "source": [
        "# создание представителя тестового датасета и его dataloader\n",
        "test_dataset = MyOwnClass(X_test, y_test)\n",
        "\n",
        "test_loader = torch.utils.data.DataLoader(test_dataset,\n",
        "                                          batch_size=8,\n",
        "                                          shuffle=False,\n",
        "                                          drop_last=True,\n",
        "                                          num_workers=0)"
      ],
      "metadata": {
        "id": "hCyDC21v4_IL"
      },
      "execution_count": 14,
      "outputs": []
    },
    {
      "cell_type": "markdown",
      "source": [
        "### Построение нейронной сети"
      ],
      "metadata": {
        "id": "iwzA-JZl5DO-"
      }
    },
    {
      "cell_type": "code",
      "source": [
        "class Perceptron(nn.Module):\n",
        "    def __init__(self, input_dim, output_dim, activation=\"relu\"):\n",
        "        super(Perceptron, self).__init__()\n",
        "        self.fc = nn.Linear(input_dim, output_dim)\n",
        "        self.activation = activation\n",
        "\n",
        "    def forward(self, x):\n",
        "        x = self.fc(x)\n",
        "        if self.activation==\"relu\":\n",
        "            return F.relu(x)\n",
        "        raise RuntimeError\n",
        "\n",
        "class FeedForward(nn.Module):\n",
        "    def __init__(self, input_dim, hidden_dim):\n",
        "        super(FeedForward, self).__init__()\n",
        "        self.bn1 = nn.BatchNorm1d(input_dim)\n",
        "        self.fc1 = Perceptron(input_dim, 2*hidden_dim)\n",
        "        self.dp1 = nn.Dropout(0.25)\n",
        "        self.bn2 = nn.BatchNorm1d(2*hidden_dim)\n",
        "        self.fc2 = Perceptron(2*hidden_dim, hidden_dim)\n",
        "        self.dp2 = nn.Dropout(0.2)\n",
        "        self.bn3 = nn.BatchNorm1d(hidden_dim)\n",
        "        self.fc3 = Perceptron(hidden_dim, 1)\n",
        "\n",
        "    def forward(self, x):\n",
        "        x = self.bn1(x)\n",
        "        x = self.fc1(x)\n",
        "        x = self.dp1(x)\n",
        "        x = self.bn2(x)\n",
        "        x = self.fc2(x)\n",
        "        x = self.dp2(x)\n",
        "        x = self.bn3(x)\n",
        "        x = self.fc3(x)\n",
        "        return x"
      ],
      "metadata": {
        "id": "0Xr9vKhm5F1P"
      },
      "execution_count": 15,
      "outputs": []
    },
    {
      "cell_type": "code",
      "source": [
        "# инициализация модели\n",
        "net = FeedForward(8, 400)\n",
        "\n",
        "# компиляция модели\n",
        "criterion = torch.nn.MSELoss(reduction='sum')\n",
        "optimizer = torch.optim.Adam(net.parameters(), lr=0.001)"
      ],
      "metadata": {
        "id": "LI-fNOC_5L_s"
      },
      "execution_count": 16,
      "outputs": []
    },
    {
      "cell_type": "code",
      "source": [
        "num_epochs = 10\n",
        "\n",
        "train_r2 = torchmetrics.R2Score()\n",
        "test_r2 = torchmetrics.R2Score()\n",
        "\n",
        "net.train()\n",
        "\n",
        "for epoch in range(num_epochs):\n",
        "\n",
        "    running_loss, running_items = 0.0, 0.0\n",
        "\n",
        "    for i, data in enumerate(train_loader):\n",
        "        inputs, target = data[0], data[1]\n",
        "\n",
        "        optimizer.zero_grad()\n",
        "        outputs = net(inputs)\n",
        "        train_r2(outputs.squeeze(), target)\n",
        "        loss = criterion(outputs.squeeze(), target)\n",
        "        loss.backward()\n",
        "        optimizer.step()\n",
        "\n",
        "        # выводим статистику о процессе обучения\n",
        "        running_loss += loss.item()\n",
        "        running_items += len(target)\n",
        "\n",
        "        # выводим статистику о процессе обучения\n",
        "        if i % 60 == 0:    # печатаем каждые 60 mini-batches\n",
        "            net.eval()\n",
        "\n",
        "            print(f'Epoch [{epoch + 1}/{num_epochs}]. ' \\\n",
        "                  f'Step [{i + 1}/{len(train_loader)}]. ' \\\n",
        "                  f'Loss: {running_loss / running_items:.3f}, ', \\\n",
        "                  f'r2_train: {train_r2.compute().item():.3f}, ', end = ' ')\n",
        "            running_loss, running_items = 0.0, 0.0\n",
        "            train_r2.reset()\n",
        "\n",
        "            for i, data in enumerate(test_loader):\n",
        "                test_outputs = net(data[0])\n",
        "                test_r2(test_outputs.squeeze(), data[1])\n",
        "\n",
        "            print(f'r2_val: {test_r2.compute():.3f}')\n",
        "            test_r2.reset()\n",
        "            net.train()\n",
        "\n",
        "print('Training is finished!')"
      ],
      "metadata": {
        "colab": {
          "base_uri": "https://localhost:8080/"
        },
        "id": "_hhYCvZI5Pvv",
        "outputId": "5d4c8915-2c54-4d24-f82e-b39923e2144f"
      },
      "execution_count": 17,
      "outputs": [
        {
          "output_type": "stream",
          "name": "stdout",
          "text": [
            "Epoch [1/10]. Step [1/120]. Loss: 4.486,  r2_train: -2.905,  r2_val: -2.749\n",
            "Epoch [1/10]. Step [61/120]. Loss: 1.265,  r2_train: 0.044,  r2_val: 0.413\n",
            "Epoch [2/10]. Step [1/120]. Loss: 0.849,  r2_train: 0.365,  r2_val: 0.509\n",
            "Epoch [2/10]. Step [61/120]. Loss: 0.670,  r2_train: 0.491,  r2_val: 0.585\n",
            "Epoch [3/10]. Step [1/120]. Loss: 0.492,  r2_train: 0.541,  r2_val: 0.633\n",
            "Epoch [3/10]. Step [61/120]. Loss: 0.565,  r2_train: 0.573,  r2_val: 0.657\n",
            "Epoch [4/10]. Step [1/120]. Loss: 0.453,  r2_train: 0.626,  r2_val: 0.666\n",
            "Epoch [4/10]. Step [61/120]. Loss: 0.473,  r2_train: 0.642,  r2_val: 0.628\n",
            "Epoch [5/10]. Step [1/120]. Loss: 0.489,  r2_train: 0.632,  r2_val: 0.660\n",
            "Epoch [5/10]. Step [61/120]. Loss: 0.453,  r2_train: 0.660,  r2_val: 0.708\n",
            "Epoch [6/10]. Step [1/120]. Loss: 0.424,  r2_train: 0.659,  r2_val: 0.650\n",
            "Epoch [6/10]. Step [61/120]. Loss: 0.433,  r2_train: 0.670,  r2_val: 0.710\n",
            "Epoch [7/10]. Step [1/120]. Loss: 0.364,  r2_train: 0.676,  r2_val: 0.719\n",
            "Epoch [7/10]. Step [61/120]. Loss: 0.430,  r2_train: 0.678,  r2_val: 0.720\n",
            "Epoch [8/10]. Step [1/120]. Loss: 0.343,  r2_train: 0.685,  r2_val: 0.691\n",
            "Epoch [8/10]. Step [61/120]. Loss: 0.398,  r2_train: 0.693,  r2_val: 0.718\n",
            "Epoch [9/10]. Step [1/120]. Loss: 0.522,  r2_train: 0.691,  r2_val: 0.738\n",
            "Epoch [9/10]. Step [61/120]. Loss: 0.392,  r2_train: 0.707,  r2_val: 0.684\n",
            "Epoch [10/10]. Step [1/120]. Loss: 0.460,  r2_train: 0.685,  r2_val: 0.675\n",
            "Epoch [10/10]. Step [61/120]. Loss: 0.405,  r2_train: 0.695,  r2_val: 0.694\n",
            "Training is finished!\n"
          ]
        }
      ]
    },
    {
      "cell_type": "markdown",
      "source": [
        "### Модели нейронной сети с разными оптимизаторами"
      ],
      "metadata": {
        "id": "ApmbDj3P5fMh"
      }
    },
    {
      "cell_type": "code",
      "source": [
        "def train_eval_model(model, optimizer, num_epochs):\n",
        "\n",
        "    train_r2 = torchmetrics.R2Score()\n",
        "    test_r2 = torchmetrics.R2Score()\n",
        "\n",
        "    r2_train_list = []\n",
        "    r2_test_list = []\n",
        "\n",
        "    for epoch in range(num_epochs):\n",
        "\n",
        "        model.train()\n",
        "        for i, data in enumerate(train_loader):\n",
        "            inputs, target = data[0], data[1] # входные данные с лейблами\n",
        "            # Обнуляем градиент\n",
        "            optimizer.zero_grad()\n",
        "            # Делаем предсказание\n",
        "            outputs = model(inputs)\n",
        "            #метрика\n",
        "            batch_r2 = train_r2(outputs.squeeze(), target)\n",
        "            # Рассчитываем лосс-функцию (функцию потерь)\n",
        "            loss = criterion(outputs.squeeze(), target)\n",
        "            # Вычисляем градиент\n",
        "            loss.backward()\n",
        "            # Обновляем веса (делаем шаг оптимайзера)\n",
        "            optimizer.step()\n",
        "\n",
        "        model.eval()\n",
        "        for i, data in enumerate(test_loader):\n",
        "            inputs, target = data[0], data[1]\n",
        "            outputs = model(inputs)\n",
        "            test_r2(outputs.squeeze(), target)\n",
        "\n",
        "        # total r2 over all training batches\n",
        "        total_train_r2 = train_r2.compute()\n",
        "        # total r2 over all training batches\n",
        "        total_test_r2 = test_r2.compute()\n",
        "\n",
        "        r2_train_list.append(total_train_r2)\n",
        "        r2_test_list.append(total_test_r2)\n",
        "        print(f'Epoch {epoch+1}: r2_train = {total_train_r2}, r2_val = {total_test_r2}')\n",
        "\n",
        "        #reset for next epoch\n",
        "        train_r2.reset()\n",
        "        test_r2.reset()\n",
        "\n",
        "    return r2_train_list, r2_test_list"
      ],
      "metadata": {
        "id": "9jWGjLkV5g-h"
      },
      "execution_count": 18,
      "outputs": []
    },
    {
      "cell_type": "code",
      "source": [
        "# функция визуализации метрик\n",
        "def visual_metrics(r2_train_list, r2_test_list, optim):\n",
        "    x = np.arange(1,11,1)\n",
        "    y = r2_train_list\n",
        "    y2 = r2_test_list\n",
        "\n",
        "    plt.plot(x,y,label='R2_train')\n",
        "    plt.plot(x,y2,label='R2_test')\n",
        "\n",
        "    plt.title(f\"NN with optim {optim}\")\n",
        "    plt.ylabel('R2_score')\n",
        "    plt.xlabel('epochs')\n",
        "    plt.legend()\n",
        "    plt.show()"
      ],
      "metadata": {
        "id": "qJ7wKfxv5oRo"
      },
      "execution_count": 19,
      "outputs": []
    },
    {
      "cell_type": "code",
      "source": [
        "torch.manual_seed(10)"
      ],
      "metadata": {
        "colab": {
          "base_uri": "https://localhost:8080/"
        },
        "id": "yFvkraWS5uD_",
        "outputId": "d7446764-3e87-4859-c4a5-fdd3cbbff72d"
      },
      "execution_count": 20,
      "outputs": [
        {
          "output_type": "execute_result",
          "data": {
            "text/plain": [
              "<torch._C.Generator at 0x785a91edbdb0>"
            ]
          },
          "metadata": {},
          "execution_count": 20
        }
      ]
    },
    {
      "cell_type": "markdown",
      "source": [
        "#### Оптимизатор SGD"
      ],
      "metadata": {
        "id": "UrHtUpP35yEx"
      }
    },
    {
      "cell_type": "code",
      "source": [
        "model = FeedForward(8, 400)\n",
        "optimizer = torch.optim.SGD(model.parameters(), lr=0.0001, momentum =0.0)\n",
        "r2_train_list_SGD, r2_test_list_SGD = train_eval_model(model, optimizer, 10)"
      ],
      "metadata": {
        "colab": {
          "base_uri": "https://localhost:8080/"
        },
        "id": "a_3kxQdn5zym",
        "outputId": "46e0d583-1ca1-41bc-f83c-2385b16a06f2"
      },
      "execution_count": 21,
      "outputs": [
        {
          "output_type": "stream",
          "name": "stdout",
          "text": [
            "Epoch 1: r2_train = 0.017322838306427002, r2_val = 0.4502796530723572\n",
            "Epoch 2: r2_train = 0.3981422781944275, r2_val = 0.4996601343154907\n",
            "Epoch 3: r2_train = 0.48378825187683105, r2_val = 0.5801624655723572\n",
            "Epoch 4: r2_train = 0.5234606266021729, r2_val = 0.591178297996521\n",
            "Epoch 5: r2_train = 0.5569790005683899, r2_val = 0.5861023664474487\n",
            "Epoch 6: r2_train = 0.5796942710876465, r2_val = 0.5690022706985474\n",
            "Epoch 7: r2_train = 0.6183960437774658, r2_val = 0.6320518255233765\n",
            "Epoch 8: r2_train = 0.6470893621444702, r2_val = 0.6853398084640503\n",
            "Epoch 9: r2_train = 0.6541188359260559, r2_val = 0.6411216259002686\n",
            "Epoch 10: r2_train = 0.6763498783111572, r2_val = 0.672605037689209\n"
          ]
        }
      ]
    },
    {
      "cell_type": "code",
      "source": [
        "visual_metrics(r2_train_list_SGD, r2_test_list_SGD, 'SGD')"
      ],
      "metadata": {
        "colab": {
          "base_uri": "https://localhost:8080/",
          "height": 472
        },
        "id": "6Dqzwjt86BXp",
        "outputId": "35959fcb-c496-40cc-d1ee-a1f83d13aa57"
      },
      "execution_count": 22,
      "outputs": [
        {
          "output_type": "display_data",
          "data": {
            "text/plain": [
              "<Figure size 640x480 with 1 Axes>"
            ],
            "image/png": "[encoded data removed]"
          },
          "metadata": {}
        }
      ]
    },
    {
      "cell_type": "markdown",
      "source": [
        "#### Оптимизатор Adam¶"
      ],
      "metadata": {
        "id": "-qGlekiI6F3G"
      }
    },
    {
      "cell_type": "code",
      "source": [
        "model = FeedForward(8, 400)\n",
        "optimizer = torch.optim.Adam(model.parameters(), lr=0.001)\n",
        "r2_train_list_Adam, r2_test_list_Adam = train_eval_model(model, optimizer, 10)"
      ],
      "metadata": {
        "colab": {
          "base_uri": "https://localhost:8080/"
        },
        "id": "KSF5ftcj6HY2",
        "outputId": "20f9c2a8-0189-432b-8cd0-b7b79e671909"
      },
      "execution_count": 23,
      "outputs": [
        {
          "output_type": "stream",
          "name": "stdout",
          "text": [
            "Epoch 1: r2_train = 0.15409058332443237, r2_val = 0.5270931720733643\n",
            "Epoch 2: r2_train = 0.5050986409187317, r2_val = 0.5877457857131958\n",
            "Epoch 3: r2_train = 0.5735474228858948, r2_val = 0.6477715373039246\n",
            "Epoch 4: r2_train = 0.6305599212646484, r2_val = 0.6806619763374329\n",
            "Epoch 5: r2_train = 0.6615914106369019, r2_val = 0.6877420544624329\n",
            "Epoch 6: r2_train = 0.6728895902633667, r2_val = 0.6998721957206726\n",
            "Epoch 7: r2_train = 0.680575966835022, r2_val = 0.6644915342330933\n",
            "Epoch 8: r2_train = 0.6977256536483765, r2_val = 0.6782885789871216\n",
            "Epoch 9: r2_train = 0.7032991051673889, r2_val = 0.7156312465667725\n",
            "Epoch 10: r2_train = 0.7048736810684204, r2_val = 0.7134469151496887\n"
          ]
        }
      ]
    },
    {
      "cell_type": "code",
      "source": [
        "visual_metrics(r2_train_list_Adam, r2_test_list_Adam, 'Adam')"
      ],
      "metadata": {
        "colab": {
          "base_uri": "https://localhost:8080/",
          "height": 472
        },
        "id": "TqQr6N5R6VJR",
        "outputId": "17906c91-3bb2-4f03-c558-152fe0291c3c"
      },
      "execution_count": 24,
      "outputs": [
        {
          "output_type": "display_data",
          "data": {
            "text/plain": [
              "<Figure size 640x480 with 1 Axes>"
            ],
            "image/png": "[encoded data removed]"
          },
          "metadata": {}
        }
      ]
    },
    {
      "cell_type": "markdown",
      "source": [
        "#### Оптимизатор RMSprop"
      ],
      "metadata": {
        "id": "xgqVM2xo6Zy3"
      }
    },
    {
      "cell_type": "code",
      "source": [
        "model = FeedForward(8, 400)\n",
        "optimizer = torch.optim.RMSprop(model.parameters(), lr=0.001)\n",
        "r2_train_list_RMS, r2_test_list_RMS = train_eval_model(model, optimizer, 10)"
      ],
      "metadata": {
        "colab": {
          "base_uri": "https://localhost:8080/"
        },
        "id": "dHKrecHJ6blS",
        "outputId": "63d3938b-e07e-445e-803f-b8b78bedb836"
      },
      "execution_count": 25,
      "outputs": [
        {
          "output_type": "stream",
          "name": "stdout",
          "text": [
            "Epoch 1: r2_train = 0.1524564027786255, r2_val = 0.5567173957824707\n",
            "Epoch 2: r2_train = 0.5357444286346436, r2_val = 0.6443504691123962\n",
            "Epoch 3: r2_train = 0.5972220301628113, r2_val = 0.6325389742851257\n",
            "Epoch 4: r2_train = 0.6334823369979858, r2_val = 0.654706597328186\n",
            "Epoch 5: r2_train = 0.6592715382575989, r2_val = 0.7008247375488281\n",
            "Epoch 6: r2_train = 0.6675530672073364, r2_val = 0.6969236135482788\n",
            "Epoch 7: r2_train = 0.6800909042358398, r2_val = 0.7270369529724121\n",
            "Epoch 8: r2_train = 0.6922587752342224, r2_val = 0.7145575284957886\n",
            "Epoch 9: r2_train = 0.6983839273452759, r2_val = 0.7108832001686096\n",
            "Epoch 10: r2_train = 0.6961566209793091, r2_val = 0.6857624053955078\n"
          ]
        }
      ]
    },
    {
      "cell_type": "code",
      "source": [
        "visual_metrics(r2_train_list_RMS, r2_test_list_RMS, 'RMSprop')"
      ],
      "metadata": {
        "colab": {
          "base_uri": "https://localhost:8080/",
          "height": 472
        },
        "id": "6Q8S4-gO6n3u",
        "outputId": "b45b399f-ff25-4cd6-d9b4-db809a3bbd9c"
      },
      "execution_count": 26,
      "outputs": [
        {
          "output_type": "display_data",
          "data": {
            "text/plain": [
              "<Figure size 640x480 with 1 Axes>"
            ],
            "image/png": "[encoded data removed]"
          },
          "metadata": {}
        }
      ]
    },
    {
      "cell_type": "markdown",
      "source": [
        "### Обобщение результатов"
      ],
      "metadata": {
        "id": "uDUFi_-26ybJ"
      }
    },
    {
      "cell_type": "code",
      "source": [
        "# сводная таблица метрик моделей\n",
        "metrics_result = pd.DataFrame([{'r2_train': r2_train_list_SGD[-1].item(), 'r2_test': r2_test_list_SGD[-1].item()},\n",
        "                               {'r2_train': r2_train_list_Adam[-1].item(), 'r2_test': r2_test_list_Adam[-1].item()},\n",
        "                               {'r2_train': r2_train_list_RMS[-1].item(), 'r2_test': r2_test_list_RMS[-1].item()}],\n",
        "                              index =['SGD', 'Adam', 'RMSprop'],\n",
        "                              columns =['r2_train', 'r2_test'])\n",
        "\n",
        "metrics_result.sort_values(by='r2_test', ascending=False)"
      ],
      "metadata": {
        "colab": {
          "base_uri": "https://localhost:8080/",
          "height": 143
        },
        "id": "4C0RDpdv64iP",
        "outputId": "33539f55-daaa-4682-a9ec-f8fe4c601011"
      },
      "execution_count": 27,
      "outputs": [
        {
          "output_type": "execute_result",
          "data": {
            "text/plain": [
              "         r2_train   r2_test\n",
              "Adam     0.704874  0.713447\n",
              "RMSprop  0.696157  0.685762\n",
              "SGD      0.676350  0.672605"
            ],
            "text/html": [
              "\n",
              "  <div id=\"df-edc06fcc-70fb-4adb-b6a2-f7bc4919490f\" class=\"colab-df-container\">\n",
              "    <div>\n",
              "<style scoped>\n",
              "    .dataframe tbody tr th:only-of-type {\n",
              "        vertical-align: middle;\n",
              "    }\n",
              "\n",
              "    .dataframe tbody tr th {\n",
              "        vertical-align: top;\n",
              "    }\n",
              "\n",
              "    .dataframe thead th {\n",
              "        text-align: right;\n",
              "    }\n",
              "</style>\n",
              "<table border=\"1\" class=\"dataframe\">\n",
              "  <thead>\n",
              "    <tr style=\"text-align: right;\">\n",
              "      <th></th>\n",
              "      <th>r2_train</th>\n",
              "      <th>r2_test</th>\n",
              "    </tr>\n",
              "  </thead>\n",
              "  <tbody>\n",
              "    <tr>\n",
              "      <th>Adam</th>\n",
              "      <td>0.704874</td>\n",
              "      <td>0.713447</td>\n",
              "    </tr>\n",
              "    <tr>\n",
              "      <th>RMSprop</th>\n",
              "      <td>0.696157</td>\n",
              "      <td>0.685762</td>\n",
              "    </tr>\n",
              "    <tr>\n",
              "      <th>SGD</th>\n",
              "      <td>0.676350</td>\n",
              "      <td>0.672605</td>\n",
              "    </tr>\n",
              "  </tbody>\n",
              "</table>\n",
              "</div>\n",
              "    <div class=\"colab-df-buttons\">\n",
              "\n",
              "  <div class=\"colab-df-container\">\n",
              "    <button class=\"colab-df-convert\" onclick=\"convertToInteractive('df-edc06fcc-70fb-4adb-b6a2-f7bc4919490f')\"\n",
              "            title=\"Convert this dataframe to an interactive table.\"\n",
              "            style=\"display:none;\">\n",
              "\n",
              "  <svg xmlns=\"http://www.w3.org/2000/svg\" height=\"24px\" viewBox=\"0 -960 960 960\">\n",
              "    <path d=\"M120-120v-720h720v720H120Zm60-500h600v-160H180v160Zm220 220h160v-160H400v160Zm0 220h160v-160H400v160ZM180-400h160v-160H180v160Zm440 0h160v-160H620v160ZM180-180h160v-160H180v160Zm440 0h160v-160H620v160Z\"/>\n",
              "  </svg>\n",
              "    </button>\n",
              "\n",
              "  <style>\n",
              "    .colab-df-container {\n",
              "      display:flex;\n",
              "      gap: 12px;\n",
              "    }\n",
              "\n",
              "    .colab-df-convert {\n",
              "      background-color: #E8F0FE;\n",
              "      border: none;\n",
              "      border-radius: 50%;\n",
              "      cursor: pointer;\n",
              "      display: none;\n",
              "      fill: #1967D2;\n",
              "      height: 32px;\n",
              "      padding: 0 0 0 0;\n",
              "      width: 32px;\n",
              "    }\n",
              "\n",
              "    .colab-df-convert:hover {\n",
              "      background-color: #E2EBFA;\n",
              "      box-shadow: 0px 1px 2px rgba(60, 64, 67, 0.3), 0px 1px 3px 1px rgba(60, 64, 67, 0.15);\n",
              "      fill: #174EA6;\n",
              "    }\n",
              "\n",
              "    .colab-df-buttons div {\n",
              "      margin-bottom: 4px;\n",
              "    }\n",
              "\n",
              "    [theme=dark] .colab-df-convert {\n",
              "      background-color: #3B4455;\n",
              "      fill: #D2E3FC;\n",
              "    }\n",
              "\n",
              "    [theme=dark] .colab-df-convert:hover {\n",
              "      background-color: #434B5C;\n",
              "      box-shadow: 0px 1px 3px 1px rgba(0, 0, 0, 0.15);\n",
              "      filter: drop-shadow(0px 1px 2px rgba(0, 0, 0, 0.3));\n",
              "      fill: #FFFFFF;\n",
              "    }\n",
              "  </style>\n",
              "\n",
              "    <script>\n",
              "      const buttonEl =\n",
              "        document.querySelector('#df-edc06fcc-70fb-4adb-b6a2-f7bc4919490f button.colab-df-convert');\n",
              "      buttonEl.style.display =\n",
              "        google.colab.kernel.accessAllowed ? 'block' : 'none';\n",
              "\n",
              "      async function convertToInteractive(key) {\n",
              "        const element = document.querySelector('#df-edc06fcc-70fb-4adb-b6a2-f7bc4919490f');\n",
              "        const dataTable =\n",
              "          await google.colab.kernel.invokeFunction('convertToInteractive',\n",
              "                                                    [key], {});\n",
              "        if (!dataTable) return;\n",
              "\n",
              "        const docLinkHtml = 'Like what you see? Visit the ' +\n",
              "          '<a target=\"_blank\" href=https://colab.research.google.com/notebooks/data_table.ipynb>data table notebook</a>'\n",
              "          + ' to learn more about interactive tables.';\n",
              "        element.innerHTML = '';\n",
              "        dataTable['output_type'] = 'display_data';\n",
              "        await google.colab.output.renderOutput(dataTable, element);\n",
              "        const docLink = document.createElement('div');\n",
              "        docLink.innerHTML = docLinkHtml;\n",
              "        element.appendChild(docLink);\n",
              "      }\n",
              "    </script>\n",
              "  </div>\n",
              "\n",
              "\n",
              "<div id=\"df-aa5e97ab-9620-4695-9484-b3fbd5fa8a98\">\n",
              "  <button class=\"colab-df-quickchart\" onclick=\"quickchart('df-aa5e97ab-9620-4695-9484-b3fbd5fa8a98')\"\n",
              "            title=\"Suggest charts.\"\n",
              "            style=\"display:none;\">\n",
              "\n",
              "<svg xmlns=\"http://www.w3.org/2000/svg\" height=\"24px\"viewBox=\"0 0 24 24\"\n",
              "     width=\"24px\">\n",
              "    <g>\n",
              "        <path d=\"M19 3H5c-1.1 0-2 .9-2 2v14c0 1.1.9 2 2 2h14c1.1 0 2-.9 2-2V5c0-1.1-.9-2-2-2zM9 17H7v-7h2v7zm4 0h-2V7h2v10zm4 0h-2v-4h2v4z\"/>\n",
              "    </g>\n",
              "</svg>\n",
              "  </button>\n",
              "\n",
              "<style>\n",
              "  .colab-df-quickchart {\n",
              "      --bg-color: #E8F0FE;\n",
              "      --fill-color: #1967D2;\n",
              "      --hover-bg-color: #E2EBFA;\n",
              "      --hover-fill-color: #174EA6;\n",
              "      --disabled-fill-color: #AAA;\n",
              "      --disabled-bg-color: #DDD;\n",
              "  }\n",
              "\n",
              "  [theme=dark] .colab-df-quickchart {\n",
              "      --bg-color: #3B4455;\n",
              "      --fill-color: #D2E3FC;\n",
              "      --hover-bg-color: #434B5C;\n",
              "      --hover-fill-color: #FFFFFF;\n",
              "      --disabled-bg-color: #3B4455;\n",
              "      --disabled-fill-color: #666;\n",
              "  }\n",
              "\n",
              "  .colab-df-quickchart {\n",
              "    background-color: var(--bg-color);\n",
              "    border: none;\n",
              "    border-radius: 50%;\n",
              "    cursor: pointer;\n",
              "    display: none;\n",
              "    fill: var(--fill-color);\n",
              "    height: 32px;\n",
              "    padding: 0;\n",
              "    width: 32px;\n",
              "  }\n",
              "\n",
              "  .colab-df-quickchart:hover {\n",
              "    background-color: var(--hover-bg-color);\n",
              "    box-shadow: 0 1px 2px rgba(60, 64, 67, 0.3), 0 1px 3px 1px rgba(60, 64, 67, 0.15);\n",
              "    fill: var(--button-hover-fill-color);\n",
              "  }\n",
              "\n",
              "  .colab-df-quickchart-complete:disabled,\n",
              "  .colab-df-quickchart-complete:disabled:hover {\n",
              "    background-color: var(--disabled-bg-color);\n",
              "    fill: var(--disabled-fill-color);\n",
              "    box-shadow: none;\n",
              "  }\n",
              "\n",
              "  .colab-df-spinner {\n",
              "    border: 2px solid var(--fill-color);\n",
              "    border-color: transparent;\n",
              "    border-bottom-color: var(--fill-color);\n",
              "    animation:\n",
              "      spin 1s steps(1) infinite;\n",
              "  }\n",
              "\n",
              "  @keyframes spin {\n",
              "    0% {\n",
              "      border-color: transparent;\n",
              "      border-bottom-color: var(--fill-color);\n",
              "      border-left-color: var(--fill-color);\n",
              "    }\n",
              "    20% {\n",
              "      border-color: transparent;\n",
              "      border-left-color: var(--fill-color);\n",
              "      border-top-color: var(--fill-color);\n",
              "    }\n",
              "    30% {\n",
              "      border-color: transparent;\n",
              "      border-left-color: var(--fill-color);\n",
              "      border-top-color: var(--fill-color);\n",
              "      border-right-color: var(--fill-color);\n",
              "    }\n",
              "    40% {\n",
              "      border-color: transparent;\n",
              "      border-right-color: var(--fill-color);\n",
              "      border-top-color: var(--fill-color);\n",
              "    }\n",
              "    60% {\n",
              "      border-color: transparent;\n",
              "      border-right-color: var(--fill-color);\n",
              "    }\n",
              "    80% {\n",
              "      border-color: transparent;\n",
              "      border-right-color: var(--fill-color);\n",
              "      border-bottom-color: var(--fill-color);\n",
              "    }\n",
              "    90% {\n",
              "      border-color: transparent;\n",
              "      border-bottom-color: var(--fill-color);\n",
              "    }\n",
              "  }\n",
              "</style>\n",
              "\n",
              "  <script>\n",
              "    async function quickchart(key) {\n",
              "      const quickchartButtonEl =\n",
              "        document.querySelector('#' + key + ' button');\n",
              "      quickchartButtonEl.disabled = true;  // To prevent multiple clicks.\n",
              "      quickchartButtonEl.classList.add('colab-df-spinner');\n",
              "      try {\n",
              "        const charts = await google.colab.kernel.invokeFunction(\n",
              "            'suggestCharts', [key], {});\n",
              "      } catch (error) {\n",
              "        console.error('Error during call to suggestCharts:', error);\n",
              "      }\n",
              "      quickchartButtonEl.classList.remove('colab-df-spinner');\n",
              "      quickchartButtonEl.classList.add('colab-df-quickchart-complete');\n",
              "    }\n",
              "    (() => {\n",
              "      let quickchartButtonEl =\n",
              "        document.querySelector('#df-aa5e97ab-9620-4695-9484-b3fbd5fa8a98 button');\n",
              "      quickchartButtonEl.style.display =\n",
              "        google.colab.kernel.accessAllowed ? 'block' : 'none';\n",
              "    })();\n",
              "  </script>\n",
              "</div>\n",
              "    </div>\n",
              "  </div>\n"
            ]
          },
          "metadata": {},
          "execution_count": 27
        }
      ]
    },
    {
      "cell_type": "markdown",
      "source": [
        "**Вывод:** лучшие показатели модели по метрике достигается с применением оптимизатора RMSprop."
      ],
      "metadata": {
        "id": "cfBEuzAA7Cou"
      }
    }
  ]
}