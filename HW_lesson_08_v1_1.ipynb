{
  "cells": [
    {
      "cell_type": "markdown",
      "metadata": {
        "id": "view-in-github",
        "colab_type": "text"
      },
      "source": [
        "<a href=\"https://colab.research.google.com/github/Kambey-san/PyTorch_base/blob/HW_lesson_08/HW_lesson_08_v1_1.ipynb\" target=\"_parent\"><img src=\"https://colab.research.google.com/assets/colab-badge.svg\" alt=\"Open In Colab\"/></a>"
      ]
    },
    {
      "cell_type": "markdown",
      "metadata": {
        "id": "PN0guJO_o1rN"
      },
      "source": [
        "# Урок 8. Generative Adversarial Networks/ Домашнее задание"
      ]
    },
    {
      "cell_type": "markdown",
      "metadata": {
        "id": "hLv9F05eo1rW"
      },
      "source": [
        "\n",
        "1. Обучить генератор создавать точки, которые будут лежать на графике функции\n",
        " $$y = \\frac{sin(x)}{x} - \\frac{x}{10}$$\n",
        "\n",
        "При выполнении данного задания структура GAN остается той же, но Вам нужно:\n",
        "- Сгенерировать настоящие данные\n",
        "- Изменить архитектуру дискриминатора и генератора\n",
        "- Построить графики"
      ]
    },
    {
      "cell_type": "code",
      "execution_count": 1,
      "metadata": {
        "id": "3iC2ZFg6o1rT"
      },
      "outputs": [],
      "source": [
        "#импорт необходимых библиотек и модулей\n",
        "import numpy as np\n",
        "import pandas as pd\n",
        "import random\n",
        "from sklearn.preprocessing import MinMaxScaler\n",
        "\n",
        "import matplotlib.pyplot as plt\n",
        "import matplotlib.patches as mpatches\n",
        "import IPython.display as display\n",
        "\n",
        "import torch\n",
        "import torch.nn as nn\n",
        "from torch.utils.data import DataLoader\n",
        "from torchvision import datasets\n"
      ]
    },
    {
      "cell_type": "markdown",
      "metadata": {
        "id": "GvdvGih9o1rX"
      },
      "source": [
        "### 0. Генерация настоящих данных <a id='section_0'></a>"
      ]
    },
    {
      "cell_type": "markdown",
      "metadata": {
        "id": "3W5w6Zq2o1rX"
      },
      "source": [
        "Функция  $y = \\frac{sin(x)}{x} - \\frac{x}{10}$ и ее график"
      ]
    },
    {
      "cell_type": "code",
      "execution_count": 2,
      "metadata": {
        "id": "Xrt68oZqo1rX"
      },
      "outputs": [],
      "source": [
        "#функция вычисления значений заданной функции\n",
        "def func(x):\n",
        "    \"\"\"\n",
        "    x -- значение переменной\n",
        "\n",
        "    Возвращает значение функции y = (np.sin(x)/x) - (x/10) при заданном х\n",
        "    \"\"\"\n",
        "    y = (np.sin(x)/x) - (x/10)\n",
        "    return y"
      ]
    },
    {
      "cell_type": "code",
      "execution_count": 3,
      "metadata": {
        "colab": {
          "base_uri": "https://localhost:8080/",
          "height": 522
        },
        "id": "wArngT3No1rY",
        "outputId": "1d08a797-7855-4088-ae42-d80a1fa816bd"
      },
      "outputs": [
        {
          "output_type": "display_data",
          "data": {
            "text/plain": [
              "<Figure size 600x600 with 1 Axes>"
            ],
            "image/png": "[encoded data removed]"
          },
          "metadata": {}
        }
      ],
      "source": [
        "# визуализация графика функции\n",
        "\n",
        "# создаем рисунок с координатную плоскость\n",
        "fig, ax = plt.subplots(figsize=(6, 6))\n",
        "\n",
        "# область графика\n",
        "x = np.linspace(-20, 20, 100)\n",
        "\n",
        "# рисуем точки графика\n",
        "ax.scatter(x, y = func(x), color='red')\n",
        "\n",
        "# рисуем график\n",
        "plt.plot(x, func(x), color='blue')\n",
        "\n",
        "# показываем график\n",
        "plt.show()"
      ]
    },
    {
      "cell_type": "markdown",
      "metadata": {
        "id": "TVqU3vfCo1rZ"
      },
      "source": [
        "Сгенерируем настроящие данные, используя функцию $y = \\frac{sin(x)}{x} - \\frac{x}{10}$"
      ]
    },
    {
      "cell_type": "code",
      "execution_count": 4,
      "metadata": {
        "id": "ZEooBywKo1ra"
      },
      "outputs": [],
      "source": [
        "#функция генерации точек, принадлежащих графику заданной функции\n",
        "def point_generator(ax, n):\n",
        "    \"\"\"\n",
        "     [-ax, ax] -- отрезок значений x\n",
        "    n -- количество значений x\n",
        "\n",
        "    Возвращает датафрейм с координатами точек, принадлежащих графику функции y = (np.sin(x)/x) - (x/10)\n",
        "    \"\"\"\n",
        "    points = pd.DataFrame([(x, func(x)) for x in np.random.uniform(-ax, ax, size=(1, n))[0]], columns=['x', 'y'])\n",
        "\n",
        "    return points"
      ]
    },
    {
      "cell_type": "code",
      "execution_count": 5,
      "metadata": {
        "colab": {
          "base_uri": "https://localhost:8080/",
          "height": 424
        },
        "id": "g2wfDF8Xo1ra",
        "outputId": "966983da-114d-46a2-dd65-b2d6758082ab"
      },
      "outputs": [
        {
          "output_type": "execute_result",
          "data": {
            "text/plain": [
              "               x         y\n",
              "0      -9.337756  0.943083\n",
              "1       8.880643 -0.829771\n",
              "2      -2.796837  0.400523\n",
              "3      -0.968211  0.947744\n",
              "4       4.139458 -0.616947\n",
              "...          ...       ...\n",
              "499995  2.630532 -0.077120\n",
              "499996 -2.321736  0.547045\n",
              "499997 -6.424809  0.664450\n",
              "499998 -0.088782  1.007565\n",
              "499999  3.829257 -0.548685\n",
              "\n",
              "[500000 rows x 2 columns]"
            ],
            "text/html": [
              "\n",
              "  <div id=\"df-41defae9-4359-4808-bc05-ea3d9c13420b\" class=\"colab-df-container\">\n",
              "    <div>\n",
              "<style scoped>\n",
              "    .dataframe tbody tr th:only-of-type {\n",
              "        vertical-align: middle;\n",
              "    }\n",
              "\n",
              "    .dataframe tbody tr th {\n",
              "        vertical-align: top;\n",
              "    }\n",
              "\n",
              "    .dataframe thead th {\n",
              "        text-align: right;\n",
              "    }\n",
              "</style>\n",
              "<table border=\"1\" class=\"dataframe\">\n",
              "  <thead>\n",
              "    <tr style=\"text-align: right;\">\n",
              "      <th></th>\n",
              "      <th>x</th>\n",
              "      <th>y</th>\n",
              "    </tr>\n",
              "  </thead>\n",
              "  <tbody>\n",
              "    <tr>\n",
              "      <th>0</th>\n",
              "      <td>-9.337756</td>\n",
              "      <td>0.943083</td>\n",
              "    </tr>\n",
              "    <tr>\n",
              "      <th>1</th>\n",
              "      <td>8.880643</td>\n",
              "      <td>-0.829771</td>\n",
              "    </tr>\n",
              "    <tr>\n",
              "      <th>2</th>\n",
              "      <td>-2.796837</td>\n",
              "      <td>0.400523</td>\n",
              "    </tr>\n",
              "    <tr>\n",
              "      <th>3</th>\n",
              "      <td>-0.968211</td>\n",
              "      <td>0.947744</td>\n",
              "    </tr>\n",
              "    <tr>\n",
              "      <th>4</th>\n",
              "      <td>4.139458</td>\n",
              "      <td>-0.616947</td>\n",
              "    </tr>\n",
              "    <tr>\n",
              "      <th>...</th>\n",
              "      <td>...</td>\n",
              "      <td>...</td>\n",
              "    </tr>\n",
              "    <tr>\n",
              "      <th>499995</th>\n",
              "      <td>2.630532</td>\n",
              "      <td>-0.077120</td>\n",
              "    </tr>\n",
              "    <tr>\n",
              "      <th>499996</th>\n",
              "      <td>-2.321736</td>\n",
              "      <td>0.547045</td>\n",
              "    </tr>\n",
              "    <tr>\n",
              "      <th>499997</th>\n",
              "      <td>-6.424809</td>\n",
              "      <td>0.664450</td>\n",
              "    </tr>\n",
              "    <tr>\n",
              "      <th>499998</th>\n",
              "      <td>-0.088782</td>\n",
              "      <td>1.007565</td>\n",
              "    </tr>\n",
              "    <tr>\n",
              "      <th>499999</th>\n",
              "      <td>3.829257</td>\n",
              "      <td>-0.548685</td>\n",
              "    </tr>\n",
              "  </tbody>\n",
              "</table>\n",
              "<p>500000 rows × 2 columns</p>\n",
              "</div>\n",
              "    <div class=\"colab-df-buttons\">\n",
              "\n",
              "  <div class=\"colab-df-container\">\n",
              "    <button class=\"colab-df-convert\" onclick=\"convertToInteractive('df-41defae9-4359-4808-bc05-ea3d9c13420b')\"\n",
              "            title=\"Convert this dataframe to an interactive table.\"\n",
              "            style=\"display:none;\">\n",
              "\n",
              "  <svg xmlns=\"http://www.w3.org/2000/svg\" height=\"24px\" viewBox=\"0 -960 960 960\">\n",
              "    <path d=\"M120-120v-720h720v720H120Zm60-500h600v-160H180v160Zm220 220h160v-160H400v160Zm0 220h160v-160H400v160ZM180-400h160v-160H180v160Zm440 0h160v-160H620v160ZM180-180h160v-160H180v160Zm440 0h160v-160H620v160Z\"/>\n",
              "  </svg>\n",
              "    </button>\n",
              "\n",
              "  <style>\n",
              "    .colab-df-container {\n",
              "      display:flex;\n",
              "      gap: 12px;\n",
              "    }\n",
              "\n",
              "    .colab-df-convert {\n",
              "      background-color: #E8F0FE;\n",
              "      border: none;\n",
              "      border-radius: 50%;\n",
              "      cursor: pointer;\n",
              "      display: none;\n",
              "      fill: #1967D2;\n",
              "      height: 32px;\n",
              "      padding: 0 0 0 0;\n",
              "      width: 32px;\n",
              "    }\n",
              "\n",
              "    .colab-df-convert:hover {\n",
              "      background-color: #E2EBFA;\n",
              "      box-shadow: 0px 1px 2px rgba(60, 64, 67, 0.3), 0px 1px 3px 1px rgba(60, 64, 67, 0.15);\n",
              "      fill: #174EA6;\n",
              "    }\n",
              "\n",
              "    .colab-df-buttons div {\n",
              "      margin-bottom: 4px;\n",
              "    }\n",
              "\n",
              "    [theme=dark] .colab-df-convert {\n",
              "      background-color: #3B4455;\n",
              "      fill: #D2E3FC;\n",
              "    }\n",
              "\n",
              "    [theme=dark] .colab-df-convert:hover {\n",
              "      background-color: #434B5C;\n",
              "      box-shadow: 0px 1px 3px 1px rgba(0, 0, 0, 0.15);\n",
              "      filter: drop-shadow(0px 1px 2px rgba(0, 0, 0, 0.3));\n",
              "      fill: #FFFFFF;\n",
              "    }\n",
              "  </style>\n",
              "\n",
              "    <script>\n",
              "      const buttonEl =\n",
              "        document.querySelector('#df-41defae9-4359-4808-bc05-ea3d9c13420b button.colab-df-convert');\n",
              "      buttonEl.style.display =\n",
              "        google.colab.kernel.accessAllowed ? 'block' : 'none';\n",
              "\n",
              "      async function convertToInteractive(key) {\n",
              "        const element = document.querySelector('#df-41defae9-4359-4808-bc05-ea3d9c13420b');\n",
              "        const dataTable =\n",
              "          await google.colab.kernel.invokeFunction('convertToInteractive',\n",
              "                                                    [key], {});\n",
              "        if (!dataTable) return;\n",
              "\n",
              "        const docLinkHtml = 'Like what you see? Visit the ' +\n",
              "          '<a target=\"_blank\" href=https://colab.research.google.com/notebooks/data_table.ipynb>data table notebook</a>'\n",
              "          + ' to learn more about interactive tables.';\n",
              "        element.innerHTML = '';\n",
              "        dataTable['output_type'] = 'display_data';\n",
              "        await google.colab.output.renderOutput(dataTable, element);\n",
              "        const docLink = document.createElement('div');\n",
              "        docLink.innerHTML = docLinkHtml;\n",
              "        element.appendChild(docLink);\n",
              "      }\n",
              "    </script>\n",
              "  </div>\n",
              "\n",
              "\n",
              "<div id=\"df-dfab9305-36f4-4b85-bdbd-1c8c90dca5ca\">\n",
              "  <button class=\"colab-df-quickchart\" onclick=\"quickchart('df-dfab9305-36f4-4b85-bdbd-1c8c90dca5ca')\"\n",
              "            title=\"Suggest charts.\"\n",
              "            style=\"display:none;\">\n",
              "\n",
              "<svg xmlns=\"http://www.w3.org/2000/svg\" height=\"24px\"viewBox=\"0 0 24 24\"\n",
              "     width=\"24px\">\n",
              "    <g>\n",
              "        <path d=\"M19 3H5c-1.1 0-2 .9-2 2v14c0 1.1.9 2 2 2h14c1.1 0 2-.9 2-2V5c0-1.1-.9-2-2-2zM9 17H7v-7h2v7zm4 0h-2V7h2v10zm4 0h-2v-4h2v4z\"/>\n",
              "    </g>\n",
              "</svg>\n",
              "  </button>\n",
              "\n",
              "<style>\n",
              "  .colab-df-quickchart {\n",
              "      --bg-color: #E8F0FE;\n",
              "      --fill-color: #1967D2;\n",
              "      --hover-bg-color: #E2EBFA;\n",
              "      --hover-fill-color: #174EA6;\n",
              "      --disabled-fill-color: #AAA;\n",
              "      --disabled-bg-color: #DDD;\n",
              "  }\n",
              "\n",
              "  [theme=dark] .colab-df-quickchart {\n",
              "      --bg-color: #3B4455;\n",
              "      --fill-color: #D2E3FC;\n",
              "      --hover-bg-color: #434B5C;\n",
              "      --hover-fill-color: #FFFFFF;\n",
              "      --disabled-bg-color: #3B4455;\n",
              "      --disabled-fill-color: #666;\n",
              "  }\n",
              "\n",
              "  .colab-df-quickchart {\n",
              "    background-color: var(--bg-color);\n",
              "    border: none;\n",
              "    border-radius: 50%;\n",
              "    cursor: pointer;\n",
              "    display: none;\n",
              "    fill: var(--fill-color);\n",
              "    height: 32px;\n",
              "    padding: 0;\n",
              "    width: 32px;\n",
              "  }\n",
              "\n",
              "  .colab-df-quickchart:hover {\n",
              "    background-color: var(--hover-bg-color);\n",
              "    box-shadow: 0 1px 2px rgba(60, 64, 67, 0.3), 0 1px 3px 1px rgba(60, 64, 67, 0.15);\n",
              "    fill: var(--button-hover-fill-color);\n",
              "  }\n",
              "\n",
              "  .colab-df-quickchart-complete:disabled,\n",
              "  .colab-df-quickchart-complete:disabled:hover {\n",
              "    background-color: var(--disabled-bg-color);\n",
              "    fill: var(--disabled-fill-color);\n",
              "    box-shadow: none;\n",
              "  }\n",
              "\n",
              "  .colab-df-spinner {\n",
              "    border: 2px solid var(--fill-color);\n",
              "    border-color: transparent;\n",
              "    border-bottom-color: var(--fill-color);\n",
              "    animation:\n",
              "      spin 1s steps(1) infinite;\n",
              "  }\n",
              "\n",
              "  @keyframes spin {\n",
              "    0% {\n",
              "      border-color: transparent;\n",
              "      border-bottom-color: var(--fill-color);\n",
              "      border-left-color: var(--fill-color);\n",
              "    }\n",
              "    20% {\n",
              "      border-color: transparent;\n",
              "      border-left-color: var(--fill-color);\n",
              "      border-top-color: var(--fill-color);\n",
              "    }\n",
              "    30% {\n",
              "      border-color: transparent;\n",
              "      border-left-color: var(--fill-color);\n",
              "      border-top-color: var(--fill-color);\n",
              "      border-right-color: var(--fill-color);\n",
              "    }\n",
              "    40% {\n",
              "      border-color: transparent;\n",
              "      border-right-color: var(--fill-color);\n",
              "      border-top-color: var(--fill-color);\n",
              "    }\n",
              "    60% {\n",
              "      border-color: transparent;\n",
              "      border-right-color: var(--fill-color);\n",
              "    }\n",
              "    80% {\n",
              "      border-color: transparent;\n",
              "      border-right-color: var(--fill-color);\n",
              "      border-bottom-color: var(--fill-color);\n",
              "    }\n",
              "    90% {\n",
              "      border-color: transparent;\n",
              "      border-bottom-color: var(--fill-color);\n",
              "    }\n",
              "  }\n",
              "</style>\n",
              "\n",
              "  <script>\n",
              "    async function quickchart(key) {\n",
              "      const quickchartButtonEl =\n",
              "        document.querySelector('#' + key + ' button');\n",
              "      quickchartButtonEl.disabled = true;  // To prevent multiple clicks.\n",
              "      quickchartButtonEl.classList.add('colab-df-spinner');\n",
              "      try {\n",
              "        const charts = await google.colab.kernel.invokeFunction(\n",
              "            'suggestCharts', [key], {});\n",
              "      } catch (error) {\n",
              "        console.error('Error during call to suggestCharts:', error);\n",
              "      }\n",
              "      quickchartButtonEl.classList.remove('colab-df-spinner');\n",
              "      quickchartButtonEl.classList.add('colab-df-quickchart-complete');\n",
              "    }\n",
              "    (() => {\n",
              "      let quickchartButtonEl =\n",
              "        document.querySelector('#df-dfab9305-36f4-4b85-bdbd-1c8c90dca5ca button');\n",
              "      quickchartButtonEl.style.display =\n",
              "        google.colab.kernel.accessAllowed ? 'block' : 'none';\n",
              "    })();\n",
              "  </script>\n",
              "</div>\n",
              "    </div>\n",
              "  </div>\n"
            ]
          },
          "metadata": {},
          "execution_count": 5
        }
      ],
      "source": [
        "#датасет с реальными данными (чем больше точек берем, тем лучше результат модели GAN)\n",
        "df_train = point_generator(10, 500000)\n",
        "df_train"
      ]
    },
    {
      "cell_type": "code",
      "execution_count": 6,
      "metadata": {
        "colab": {
          "base_uri": "https://localhost:8080/",
          "height": 430
        },
        "id": "b-oZpCVro1rb",
        "outputId": "67e36a8f-fd56-4e7b-c3d1-a7d1c1ecb9f0"
      },
      "outputs": [
        {
          "output_type": "display_data",
          "data": {
            "text/plain": [
              "<Figure size 640x480 with 1 Axes>"
            ],
            "image/png": "[encoded data removed]"
          },
          "metadata": {}
        }
      ],
      "source": [
        "#отрисовка реальных данных\n",
        "x,y = df_train.values.T\n",
        "plt.scatter(x,y,label='real_points')\n",
        "plt.legend()\n",
        "plt.show()"
      ]
    },
    {
      "cell_type": "markdown",
      "metadata": {
        "id": "G9NX6lweo1rb"
      },
      "source": [
        "Нормализуем данные для обучения"
      ]
    },
    {
      "cell_type": "code",
      "execution_count": 7,
      "metadata": {
        "colab": {
          "base_uri": "https://localhost:8080/"
        },
        "id": "R3-Ewikao1rb",
        "outputId": "d1757f1d-0949-48e0-85ae-ea6d2735d38d"
      },
      "outputs": [
        {
          "output_type": "execute_result",
          "data": {
            "text/plain": [
              "tensor([[0.0331, 0.9652],\n",
              "        [0.9440, 0.1085],\n",
              "        [0.3602, 0.7030],\n",
              "        ...,\n",
              "        [0.1788, 0.8306],\n",
              "        [0.4956, 0.9964],\n",
              "        [0.6915, 0.2444]])"
            ]
          },
          "metadata": {},
          "execution_count": 7
        }
      ],
      "source": [
        "#без нормализации данных результат модели хуже\n",
        "scaler = MinMaxScaler()\n",
        "data_train = scaler.fit_transform(df_train)\n",
        "data_train = torch.FloatTensor(data_train).float()\n",
        "data_train"
      ]
    },
    {
      "cell_type": "markdown",
      "metadata": {
        "id": "EWFHiZtOo1rc"
      },
      "source": [
        "### 1. Dataset и Dataloader <a id='section_1'></a>"
      ]
    },
    {
      "cell_type": "markdown",
      "metadata": {
        "id": "cnmyxpEao1rc"
      },
      "source": [
        "Создадим датасет и даталоадер для работы с данными"
      ]
    },
    {
      "cell_type": "code",
      "execution_count": 8,
      "metadata": {
        "id": "hcF5LiK2o1rc"
      },
      "outputs": [],
      "source": [
        "# класс датасета\n",
        "class MyOwnClass(torch.utils.data.Dataset):\n",
        "\n",
        "    def __init__(self, data):\n",
        "        self._data = data\n",
        "\n",
        "    def __len__(self):\n",
        "        return len(self._data)\n",
        "\n",
        "    def __getitem__(self, idx):\n",
        "        point = self._data[idx]\n",
        "\n",
        "        return point"
      ]
    },
    {
      "cell_type": "code",
      "execution_count": 9,
      "metadata": {
        "id": "CDCq-BDto1rd"
      },
      "outputs": [],
      "source": [
        "# создание представителя датасета и его даталоадер\n",
        "train_dataset = MyOwnClass(data_train)\n",
        "\n",
        "train_loader = torch.utils.data.DataLoader(train_dataset,\n",
        "                          batch_size=128,\n",
        "                          shuffle=True,\n",
        "                          drop_last=True,\n",
        "                          num_workers=0)"
      ]
    },
    {
      "cell_type": "code",
      "execution_count": 10,
      "metadata": {
        "colab": {
          "base_uri": "https://localhost:8080/"
        },
        "id": "Ixpkeyo-o1rd",
        "outputId": "8e076667-9786-401e-e7c9-9680f98725e9"
      },
      "outputs": [
        {
          "output_type": "stream",
          "name": "stdout",
          "text": [
            "torch.Size([128, 2])\n"
          ]
        }
      ],
      "source": [
        "# элементы тренировочного даталоадера\n",
        "for idx, batch in enumerate(train_loader):\n",
        "    print(batch.shape) # 128 батчей с 2 признаками\n",
        "    break"
      ]
    },
    {
      "cell_type": "markdown",
      "metadata": {
        "id": "tz2CYy8do1rd"
      },
      "source": [
        "### 2. Генератор и Дискриминатор <a id='section_2'></a>"
      ]
    },
    {
      "cell_type": "code",
      "execution_count": 11,
      "metadata": {
        "id": "MpF0WWvSo1rd"
      },
      "outputs": [],
      "source": [
        "# Функция для построения графиков\n",
        "def plot_points(gen_points, real_points):\n",
        "    # создаем рисунок с координатную плоскость\n",
        "    fig, ax = plt.subplots(figsize=(6, 6))\n",
        "\n",
        "    #отрисовка реальных точек\n",
        "    a,b = (real_points.detach()).T\n",
        "    plt.scatter(a,b, color='green',label='real_points')\n",
        "\n",
        "    #отрисовка сгенерированных точек\n",
        "    x, y = (gen_points.detach()).T\n",
        "    plt.scatter(x,y, color='red', label='generated_points')\n",
        "\n",
        "    plt.legend()\n",
        "    plt.show()"
      ]
    },
    {
      "cell_type": "markdown",
      "metadata": {
        "id": "CG3RWvhUo1re"
      },
      "source": [
        "Класс Генератора"
      ]
    },
    {
      "cell_type": "code",
      "execution_count": 12,
      "metadata": {
        "id": "UC7f_xdwo1re"
      },
      "outputs": [],
      "source": [
        "class Generator(nn.Module):\n",
        "    def __init__(self):\n",
        "        super().__init__()\n",
        "\n",
        "        # Использование таких словарей позволяет нам варьировать параметры нашей сети в процессе использования\n",
        "        self.activations = nn.ModuleDict([\n",
        "            ['lrelu', nn.LeakyReLU(0.2, inplace=True)],\n",
        "            ['relu', nn.ReLU()]\n",
        "        ])\n",
        "\n",
        "        def block(in_feat, out_feat, normalize=True, activation='relu'):\n",
        "            layers = [nn.Linear(in_feat, out_feat)]  # Если мы создаем последовательность слоев - то мы задаем их\n",
        "                                                     # с помощью списка.\n",
        "            if normalize:\n",
        "                layers.append(nn.BatchNorm1d(out_feat))\n",
        "            layers.append(self.activations[activation])  # Эта строчка означает тоже самое что и\n",
        "                                                         # layers.append(nn.LeakyReLU(0.2, inplace=True))\n",
        "            return layers\n",
        "\n",
        "        self.model = nn.Sequential(\n",
        "            *block(latent_dim, 128, normalize=False),  # Звездочка означает unpacking списка\n",
        "            *block(128, 256, activation='lrelu'),\n",
        "            *block(256, 512),\n",
        "            *block(512, 1024),\n",
        "             nn.Linear(1024, 2),\n",
        "             nn.Linear(2, 2),\n",
        "             nn.Tanh()\n",
        "        )\n",
        "\n",
        "    def forward(self, z):\n",
        "        new_point = self.model(z)\n",
        "        new_point = new_point.reshape(-1, 2)\n",
        "        return new_point"
      ]
    },
    {
      "cell_type": "markdown",
      "metadata": {
        "id": "NZawNBqlo1re"
      },
      "source": [
        "Класс кастомного слоя"
      ]
    },
    {
      "cell_type": "code",
      "execution_count": 13,
      "metadata": {
        "id": "AH6XiZufo1re"
      },
      "outputs": [],
      "source": [
        "class CustomLinearLayer(nn.Module):\n",
        "    def __init__(self, size_in, size_out):\n",
        "        super().__init__()\n",
        "        self.size_in, self.size_out = size_in, size_out\n",
        "\n",
        "        weights = torch.Tensor(size_out, size_in)\n",
        "        self.weights = nn.Parameter(weights) # Обьявляем веса как параметры слоя\n",
        "\n",
        "        bias = torch.Tensor(size_out)\n",
        "        self.bias = nn.Parameter(bias)\n",
        "\n",
        "        nn.init.uniform_(self.weights, -0.005, 0.005)\n",
        "        nn.init.uniform_(self.bias, -0.005, 0.005)\n",
        "\n",
        "    def forward(self, x):\n",
        "        # По формуле линейного слоя, нам нужно умножить наши данные\n",
        "        # на транспонированные веса и добавить смещение\n",
        "        w_times_x = torch.mm(x, self.weights.t())\n",
        "        return torch.add(w_times_x, self.bias)"
      ]
    },
    {
      "cell_type": "markdown",
      "metadata": {
        "id": "PR3VpX-5o1rf"
      },
      "source": [
        "Класс Дискриминатора"
      ]
    },
    {
      "cell_type": "code",
      "execution_count": 14,
      "metadata": {
        "id": "F8hdJTl3o1rf"
      },
      "outputs": [],
      "source": [
        "class Discriminator(nn.Module):\n",
        "    def __init__(self):\n",
        "        super().__init__()\n",
        "\n",
        "        self.model = nn.Sequential(\n",
        "            CustomLinearLayer(2, 512),\n",
        "            nn.LeakyReLU(0.2, inplace=True),\n",
        "            CustomLinearLayer(512, 256),\n",
        "            nn.LeakyReLU(0.2, inplace=True),\n",
        "            CustomLinearLayer(256, 1),\n",
        "            nn.Sigmoid()\n",
        "        )\n",
        "\n",
        "\n",
        "    def forward(self, img):\n",
        "        img_flat = img\n",
        "        validity = self.model(img_flat)\n",
        "        return validity"
      ]
    },
    {
      "cell_type": "markdown",
      "metadata": {
        "id": "RYbRk8VQo1rf"
      },
      "source": [
        "### 3. Обучение модели GAN <a id='section_3'></a>"
      ]
    },
    {
      "cell_type": "code",
      "execution_count": 15,
      "metadata": {
        "id": "rotR-kR1o1rf"
      },
      "outputs": [],
      "source": [
        "n_epochs = 20  # количество эпох\n",
        "lr = 0.0002  # шаг обучения\n",
        "\n",
        "b1 = 0.5  # гиперпараметр для оптимайзера Adam\n",
        "b2 = 0.999  # гиперпараметр для оптимайзера Adam\n",
        "\n",
        "latent_dim = 100  # Размерность случайного вектора, который подается на вход генератору\n",
        "\n",
        "sample_interval = 500  # количество итераций для отображения процесса обучения\n",
        "\n",
        "batch_size = 128"
      ]
    },
    {
      "cell_type": "code",
      "execution_count": 16,
      "metadata": {
        "id": "fFQEfiPlo1rg"
      },
      "outputs": [],
      "source": [
        "generator = Generator()\n",
        "discriminator = Discriminator()\n",
        "\n",
        "# опитимизатор для каждой сети\n",
        "optimizer_G = torch.optim.Adam(\n",
        "    generator.parameters(),\n",
        "    lr=lr,\n",
        "    betas=(b1, b2)\n",
        ")\n",
        "optimizer_D = torch.optim.Adam(\n",
        "    discriminator.parameters(),\n",
        "    lr=lr,\n",
        "    betas=(b1, b2)\n",
        ")\n",
        "\n",
        "# функция ошибки\n",
        "adversarial_loss = torch.nn.BCELoss()"
      ]
    },
    {
      "cell_type": "code",
      "execution_count": 17,
      "metadata": {
        "id": "Xe_nr7PFo1rg"
      },
      "outputs": [],
      "source": [
        "d_loss_history = []\n",
        "g_loss_history = []"
      ]
    },
    {
      "cell_type": "code",
      "execution_count": 18,
      "metadata": {
        "colab": {
          "base_uri": "https://localhost:8080/",
          "height": 970
        },
        "id": "2XIz1-UVo1rg",
        "outputId": "337984cd-2f1f-4f93-c055-b2d917410473"
      },
      "outputs": [
        {
          "output_type": "display_data",
          "data": {
            "text/plain": [
              "<Figure size 640x480 with 0 Axes>"
            ]
          },
          "metadata": {}
        },
        {
          "output_type": "display_data",
          "data": {
            "text/plain": [
              "<Figure size 600x600 with 1 Axes>"
            ],
            "image/png": "[encoded data removed]"
          },
          "metadata": {}
        },
        {
          "output_type": "stream",
          "name": "stdout",
          "text": [
            "[Epoch 19/20] [Batch 3786/3906]|[D loss: 0.6931116580963135] [G loss: 0.6935549974441528]\n"
          ]
        },
        {
          "output_type": "display_data",
          "data": {
            "text/plain": [
              "<Figure size 640x480 with 1 Axes>"
            ],
            "image/png": "[encoded data removed]"
          },
          "metadata": {}
        }
      ],
      "source": [
        "red_patch = mpatches.Patch(color='red', label='D loss')\n",
        "green_patch = mpatches.Patch(color='green', label='G loss')\n",
        "\n",
        "\n",
        "for epoch in range(n_epochs):\n",
        "    for i, points in enumerate(train_loader):\n",
        "\n",
        "##################### Лейблы для данных: 1 - настоящие, 0 - сгенерированные ########\n",
        "        valid = torch.FloatTensor(batch_size, 1).fill_(1.0) #(B,1) -- столбец-лейблов 1\n",
        "        fake = torch.FloatTensor(batch_size, 1).fill_(0.0)  #(B,1)  -- столбец-лейблов 0\n",
        "\n",
        "        real_points = points.type(torch.FloatTensor) #(B,2) -- реальные данные\n",
        "\n",
        "        # Генерация шума (B,latent_dim)\n",
        "        z = torch.FloatTensor(np.random.normal(0, 1, (batch_size, latent_dim)))\n",
        "        # Генерируем данные Генератором на основе шума\n",
        "        gen_points = generator(z)   #(B,2) -- сгенерированные данные\n",
        "\n",
        "######################  Тренировка дискриминатора    ##########################\n",
        "\n",
        "        # Получаем предсказания дискриминатора на основе реальных данных\n",
        "        real_pred = discriminator(real_points)  #(B,1)\n",
        "\n",
        "        # Тут сравниваем предсказанные значения Дискриминатора(на основе настоящих данных) с настоящими\n",
        "        d_real_loss = adversarial_loss(real_pred, valid)\n",
        "\n",
        "        # Подаем сгенерированые данные на Дискриминатор\n",
        "        fake_pred = discriminator(gen_points) #(B,1)\n",
        "\n",
        "        # расчитываем ошибку предсказанного с фейковыми лейблами\n",
        "        d_fake_loss = adversarial_loss(fake_pred, fake)\n",
        "\n",
        "        # И усредняем два лосса в один\n",
        "        d_loss = (d_real_loss + d_fake_loss) / 2\n",
        "\n",
        "        optimizer_D.zero_grad()\n",
        "        d_loss.backward()\n",
        "        optimizer_D.step()\n",
        "\n",
        "######################  Тренировка генератора    ##########################\n",
        "\n",
        "        # генерация шума\n",
        "        z = torch.FloatTensor(np.random.normal(0, 1, (batch_size, latent_dim))) #(B,latent_dim)\n",
        "\n",
        "        # Генерируем данные Генератором на основе шума\n",
        "        gen_points = generator(z)  #(B,2)\n",
        "\n",
        "        # Подаем сгенерированые данные на Дискриминатор\n",
        "        fake_pred = discriminator(gen_points)  #(B,1)\n",
        "\n",
        "        # Тут сравниваем предсказанные значения Дискриминатора (на основе сгенерировнных данных) с настоящими\n",
        "        g_loss = adversarial_loss(fake_pred, valid)\n",
        "\n",
        "        # Делаем шаг обучения нашего Генератора\n",
        "        optimizer_G.zero_grad()\n",
        "        g_loss.backward()\n",
        "        optimizer_G.step()\n",
        "\n",
        "\n",
        "######## Отображение процесса обучения и вывод функций потерь ############\n",
        "        batches_done = epoch * len(train_loader) + i\n",
        "\n",
        "        if batches_done % sample_interval == 0:\n",
        "            with torch.no_grad():\n",
        "                plt.clf()\n",
        "                display.clear_output(wait=False)\n",
        "                # clear_output(wait=False)\n",
        "                plot_points(gen_points, real_points)\n",
        "\n",
        "                print(f\"[Epoch {epoch}/{n_epochs}] [Batch {i}/{len(train_loader)}]\", end='|')\n",
        "                print(f'[D loss: {d_loss.item()}] [G loss: {g_loss.item()}]')\n",
        "\n",
        "\n",
        "                d_loss = d_loss.detach()  #новый тензор без градиента\n",
        "                g_loss = g_loss.detach()\n",
        "\n",
        "                d_loss_history.append(d_loss)\n",
        "                g_loss_history.append(g_loss)\n",
        "\n",
        "                plt.plot(np.array(d_loss_history), label='D loss')\n",
        "                plt.plot(np.array(g_loss_history), label='G loss')\n",
        "                plt.legend()\n",
        "                plt.show()"
      ]
    }
  ],
  "metadata": {
    "accelerator": "GPU",
    "colab": {
      "provenance": [],
      "include_colab_link": true
    },
    "gpuClass": "standard",
    "kernelspec": {
      "display_name": "Python 3 (ipykernel)",
      "language": "python",
      "name": "python3"
    },
    "language_info": {
      "codemirror_mode": {
        "name": "ipython",
        "version": 3
      },
      "file_extension": ".py",
      "mimetype": "text/x-python",
      "name": "python",
      "nbconvert_exporter": "python",
      "pygments_lexer": "ipython3",
      "version": "3.10.5"
    }
  },
  "nbformat": 4,
  "nbformat_minor": 0
}